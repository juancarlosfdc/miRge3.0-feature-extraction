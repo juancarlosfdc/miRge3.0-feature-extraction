{
 "cells": [
  {
   "cell_type": "markdown",
   "metadata": {},
   "source": [
    "# SVM for miRNA classification"
   ]
  },
  {
   "cell_type": "code",
   "execution_count": 2,
   "metadata": {},
   "outputs": [],
   "source": [
    "from sklearn import svm\n",
    "from sklearn.model_selection import train_test_split\n",
    "from sklearn.model_selection import GridSearchCV\n",
    "from sklearn.metrics import classification_report, confusion_matrix\n",
    "import pandas as pd\n",
    "import numpy as np"
   ]
  },
  {
   "cell_type": "code",
   "execution_count": 145,
   "metadata": {},
   "outputs": [],
   "source": [
    "df = pd.read_csv('feature_df_no_other.tsv', sep='\\t')"
   ]
  },
  {
   "cell_type": "code",
   "execution_count": 146,
   "metadata": {},
   "outputs": [
    {
     "data": {
      "text/plain": [
       "{'lncRNA', 'miRNA', 'miscRNA', 'rRNA', 'snoRNA'}"
      ]
     },
     "execution_count": 146,
     "metadata": {},
     "output_type": "execute_result"
    }
   ],
   "source": [
    "set(df['rna_type'])"
   ]
  },
  {
   "cell_type": "code",
   "execution_count": 15,
   "metadata": {
    "collapsed": true,
    "jupyter": {
     "outputs_hidden": true
    },
    "tags": []
   },
   "outputs": [
    {
     "name": "stdout",
     "output_type": "stream",
     "text": [
      "realMicRNA {'Null'}\n",
      "realMicRNAName {'Null'}\n",
      "head_minus3_templateNucleotide {'G', 'T', 'C', 'A'}\n",
      "head_minus3_A_percentage {0.0, 1.0, 0.8, 0.10526315789473684}\n",
      "head_minus3_T_percentage {0.0, 1.0}\n",
      "head_minus3_C_percentage {0.0, 1.0}\n",
      "head_minus3_G_percentage {0.0, 0.8947368421052632, 0.2, 1.0}\n",
      "head_minus2_templateNucleotide {'G', 'T', 'A', 'C'}\n",
      "head_minus2_A_percentage {0.0, 1.0}\n",
      "head_minus2_G_percentage {0.0, 0.8125, 1.0}\n",
      "head_minus1_templateNucleotide {'G', 'T', 'A', 'C'}\n",
      "head_minus1_C_percentage {0.0, 1.0, 0.5}\n",
      "head_minus1_G_percentage {0.0, 1.0, 0.5, 0.25}\n",
      "tail_plus1_templateNucleotide {'G', 'T', 'A', 'C'}\n",
      "tail_plus2_templateNucleotide {'G', 'T', 'C', 'A'}\n",
      "tail_plus3_templateNucleotide {'G', 'T', 'A', 'C'}\n",
      "tail_plus4_templateNucleotide {'G', 'T', 'A', 'C'}\n",
      "tail_plus4_A_percentage {0.0, 1.0, 0.35714285714285715}\n",
      "tail_plus4_C_percentage {0.0, 1.0, 0.67, 0.6428571428571429}\n",
      "tail_plus4_G_percentage {0.0, 1.0, 0.6666666666666666, 0.7037037037037037}\n",
      "tail_plus5_templateNucleotide {'G', 'T', 'A', 'C'}\n",
      "tail_plus5_A_percentage {0.0, 1.0, 0.043209876543209874, 0.16666666666666666}\n",
      "tail_plus5_G_percentage {0.0, 1.0, 0.35294117647058826, 0.8209876543209876}\n",
      "tail_plus6_templateNucleotide {'G', 'T', 'C', 'A'}\n",
      "tail_plus6_A_percentage {0.0, 1.0, 0.08}\n",
      "tail_plus6_T_percentage {0.0, 1.0, 0.2857142857142857}\n",
      "tail_plus6_G_percentage {0.0, 1.0, 0.9069767441860463}\n",
      "armType {'arm5', 'arm3', 'unmatchedRegion', 'loop'}\n",
      "hairpin_count {1, 2, 3, 4}\n",
      "UGU_UGUG_motif {'No', 'Yes'}\n",
      "pair_state {'No', 'Yes'}\n"
     ]
    }
   ],
   "source": [
    "for col in df.columns:\n",
    "    if len(set(df[col])) < 5:\n",
    "        print(col, set(df[col]))"
   ]
  },
  {
   "cell_type": "markdown",
   "metadata": {},
   "source": [
    "Remove junk columns: the name of the cluster, as well as any column that has one unique value"
   ]
  },
  {
   "cell_type": "code",
   "execution_count": 147,
   "metadata": {},
   "outputs": [],
   "source": [
    "df_clean_columns = df[[col for col in df.columns if np.logical_and.reduce([len(set(df[col])) > 1, col != 'clusterName', 'template' not in col])]]"
   ]
  },
  {
   "cell_type": "code",
   "execution_count": 148,
   "metadata": {},
   "outputs": [],
   "source": [
    "df = df_clean_columns"
   ]
  },
  {
   "cell_type": "code",
   "execution_count": 149,
   "metadata": {},
   "outputs": [],
   "source": [
    "categorical_df = df[[col for col in df.columns if df[col].dtype == 'O']]"
   ]
  },
  {
   "cell_type": "code",
   "execution_count": 150,
   "metadata": {},
   "outputs": [],
   "source": [
    "categorical_vars = categorical_df.columns.drop('rna_type')"
   ]
  },
  {
   "cell_type": "code",
   "execution_count": 151,
   "metadata": {},
   "outputs": [],
   "source": [
    "df = df.drop(categorical_vars, axis=1).merge(pd.get_dummies(df_clean_columns[categorical_vars]), left_index=True, right_index=True)"
   ]
  },
  {
   "cell_type": "markdown",
   "metadata": {},
   "source": [
    "Cross validate as they did in their paper"
   ]
  },
  {
   "cell_type": "code",
   "execution_count": 157,
   "metadata": {},
   "outputs": [],
   "source": [
    "df_feat = df.drop('rna_type', axis=1)"
   ]
  },
  {
   "cell_type": "code",
   "execution_count": 158,
   "metadata": {},
   "outputs": [],
   "source": [
    "df_target = df['rna_type']"
   ]
  },
  {
   "cell_type": "code",
   "execution_count": 159,
   "metadata": {},
   "outputs": [],
   "source": [
    "X_train, X_test, y_train, y_test = train_test_split(\n",
    "                        df_feat, np.ravel(df_target),\n",
    "                test_size = 0.20, random_state = 101)"
   ]
  },
  {
   "cell_type": "code",
   "execution_count": 3,
   "metadata": {},
   "outputs": [
    {
     "ename": "NameError",
     "evalue": "name 'X_train' is not defined",
     "output_type": "error",
     "traceback": [
      "\u001b[0;31m---------------------------------------------------------------------------\u001b[0m",
      "\u001b[0;31mNameError\u001b[0m                                 Traceback (most recent call last)",
      "\u001b[0;32m<ipython-input-3-314c1c122e06>\u001b[0m in \u001b[0;36m<module>\u001b[0;34m\u001b[0m\n\u001b[1;32m      1\u001b[0m \u001b[0mmodel\u001b[0m \u001b[0;34m=\u001b[0m \u001b[0msvm\u001b[0m\u001b[0;34m.\u001b[0m\u001b[0mSVC\u001b[0m\u001b[0;34m(\u001b[0m\u001b[0;34m)\u001b[0m\u001b[0;34m\u001b[0m\u001b[0;34m\u001b[0m\u001b[0m\n\u001b[0;32m----> 2\u001b[0;31m \u001b[0mmodel\u001b[0m\u001b[0;34m.\u001b[0m\u001b[0mfit\u001b[0m\u001b[0;34m(\u001b[0m\u001b[0mX_train\u001b[0m\u001b[0;34m,\u001b[0m \u001b[0my_train\u001b[0m\u001b[0;34m)\u001b[0m\u001b[0;34m\u001b[0m\u001b[0;34m\u001b[0m\u001b[0m\n\u001b[0m",
      "\u001b[0;31mNameError\u001b[0m: name 'X_train' is not defined"
     ]
    }
   ],
   "source": [
    "model = svm.SVC()\n",
    "model.fit(X_train, y_train)"
   ]
  },
  {
   "cell_type": "code",
   "execution_count": 160,
   "metadata": {},
   "outputs": [
    {
     "data": {
      "text/plain": [
       "SVC()"
      ]
     },
     "execution_count": 160,
     "metadata": {},
     "output_type": "execute_result"
    }
   ],
   "source": [
    "# defining parameter range\n",
    "param_range = 10**np.arange(-4, 4, dtype=float)\n",
    "param_grid = {'C': param_range,\n",
    "              'gamma': param_range,\n",
    "              'kernel': ['rbf']}\n",
    "\n",
    "grid = GridSearchCV(svm.SVC(), param_grid, refit = True, verbose = 3)\n",
    " \n",
    "# fitting the model for grid search\n",
    "grid.fit(X_train, y_train)"
   ]
  },
  {
   "cell_type": "code",
   "execution_count": 175,
   "metadata": {},
   "outputs": [
    {
     "name": "stdout",
     "output_type": "stream",
     "text": [
      "{'C': 1.0, 'gamma': 0.0001, 'kernel': 'rbf'}\n",
      "SVC(gamma=0.0001)\n"
     ]
    }
   ],
   "source": [
    "# print best parameter after tuning\n",
    "print(grid.best_params_)\n",
    " \n",
    "# print how our model looks after hyper-parameter tuning\n",
    "print(grid.best_estimator_)"
   ]
  },
  {
   "cell_type": "code",
   "execution_count": 176,
   "metadata": {},
   "outputs": [],
   "source": [
    "grid_predictions = grid.predict(X_test)"
   ]
  },
  {
   "cell_type": "code",
   "execution_count": 179,
   "metadata": {},
   "outputs": [
    {
     "name": "stdout",
     "output_type": "stream",
     "text": [
      "              precision    recall  f1-score   support\n",
      "\n",
      "      lncRNA       0.41      0.31      0.35       358\n",
      "       miRNA       0.59      0.88      0.70       441\n",
      "     miscRNA       0.00      0.00      0.00         7\n",
      "        rRNA       0.00      0.00      0.00         3\n",
      "      snoRNA       0.00      0.00      0.00       115\n",
      "\n",
      "    accuracy                           0.54       924\n",
      "   macro avg       0.20      0.24      0.21       924\n",
      "weighted avg       0.44      0.54      0.47       924\n",
      "\n"
     ]
    },
    {
     "name": "stderr",
     "output_type": "stream",
     "text": [
      "/Users/jfernand/opt/anaconda3/lib/python3.8/site-packages/sklearn/metrics/_classification.py:1245: UndefinedMetricWarning: Precision and F-score are ill-defined and being set to 0.0 in labels with no predicted samples. Use `zero_division` parameter to control this behavior.\n",
      "  _warn_prf(average, modifier, msg_start, len(result))\n",
      "/Users/jfernand/opt/anaconda3/lib/python3.8/site-packages/sklearn/metrics/_classification.py:1245: UndefinedMetricWarning: Precision and F-score are ill-defined and being set to 0.0 in labels with no predicted samples. Use `zero_division` parameter to control this behavior.\n",
      "  _warn_prf(average, modifier, msg_start, len(result))\n",
      "/Users/jfernand/opt/anaconda3/lib/python3.8/site-packages/sklearn/metrics/_classification.py:1245: UndefinedMetricWarning: Precision and F-score are ill-defined and being set to 0.0 in labels with no predicted samples. Use `zero_division` parameter to control this behavior.\n",
      "  _warn_prf(average, modifier, msg_start, len(result))\n"
     ]
    }
   ],
   "source": [
    "print(classification_report(y_test, grid_predictions))"
   ]
  },
  {
   "cell_type": "code",
   "execution_count": null,
   "metadata": {},
   "outputs": [],
   "source": [
    "print(confusion_matrix())"
   ]
  }
 ],
 "metadata": {
  "kernelspec": {
   "display_name": "Python 3",
   "language": "python",
   "name": "python3"
  },
  "language_info": {
   "codemirror_mode": {
    "name": "ipython",
    "version": 3
   },
   "file_extension": ".py",
   "mimetype": "text/x-python",
   "name": "python",
   "nbconvert_exporter": "python",
   "pygments_lexer": "ipython3",
   "version": "3.7.6"
  }
 },
 "nbformat": 4,
 "nbformat_minor": 5
}
