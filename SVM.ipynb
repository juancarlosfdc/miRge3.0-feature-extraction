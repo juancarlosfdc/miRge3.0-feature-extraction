{
 "cells": [
  {
   "cell_type": "markdown",
   "id": "db4bf5f7-5e33-4b3e-9cad-3bdc463c4479",
   "metadata": {},
   "source": [
    "# SVM for miRNA classification"
   ]
  },
  {
   "cell_type": "code",
   "execution_count": 178,
   "id": "97320e21-235f-426c-baf0-3b700c6f179b",
   "metadata": {},
   "outputs": [],
   "source": [
    "from sklearn import svm\n",
    "from sklearn.model_selection import train_test_split\n",
    "from sklearn.model_selection import GridSearchCV\n",
    "from sklearn.metrics import classification_report, confusion_matrix\n",
    "import pandas as pd\n",
    "import numpy as np"
   ]
  },
  {
   "cell_type": "code",
   "execution_count": 145,
   "id": "e5277e02-5309-4eb9-bb3c-966b2f32d20f",
   "metadata": {},
   "outputs": [],
   "source": [
    "df = pd.read_csv('feature_df_no_other.tsv', sep='\\t')"
   ]
  },
  {
   "cell_type": "code",
   "execution_count": 146,
   "id": "1bf4b9bc-c1e0-4ec0-b689-efdc6bde8c2f",
   "metadata": {},
   "outputs": [
    {
     "data": {
      "text/plain": [
       "{'lncRNA', 'miRNA', 'miscRNA', 'rRNA', 'snoRNA'}"
      ]
     },
     "execution_count": 146,
     "metadata": {},
     "output_type": "execute_result"
    }
   ],
   "source": [
    "set(df['rna_type'])"
   ]
  },
  {
   "cell_type": "code",
   "execution_count": 15,
   "id": "d0453d28-f58f-4b8c-acc5-1b3ee47ae6ed",
   "metadata": {
    "collapsed": true,
    "jupyter": {
     "outputs_hidden": true
    },
    "tags": []
   },
   "outputs": [
    {
     "name": "stdout",
     "output_type": "stream",
     "text": [
      "realMicRNA {'Null'}\n",
      "realMicRNAName {'Null'}\n",
      "head_minus3_templateNucleotide {'G', 'T', 'C', 'A'}\n",
      "head_minus3_A_percentage {0.0, 1.0, 0.8, 0.10526315789473684}\n",
      "head_minus3_T_percentage {0.0, 1.0}\n",
      "head_minus3_C_percentage {0.0, 1.0}\n",
      "head_minus3_G_percentage {0.0, 0.8947368421052632, 0.2, 1.0}\n",
      "head_minus2_templateNucleotide {'G', 'T', 'A', 'C'}\n",
      "head_minus2_A_percentage {0.0, 1.0}\n",
      "head_minus2_G_percentage {0.0, 0.8125, 1.0}\n",
      "head_minus1_templateNucleotide {'G', 'T', 'A', 'C'}\n",
      "head_minus1_C_percentage {0.0, 1.0, 0.5}\n",
      "head_minus1_G_percentage {0.0, 1.0, 0.5, 0.25}\n",
      "tail_plus1_templateNucleotide {'G', 'T', 'A', 'C'}\n",
      "tail_plus2_templateNucleotide {'G', 'T', 'C', 'A'}\n",
      "tail_plus3_templateNucleotide {'G', 'T', 'A', 'C'}\n",
      "tail_plus4_templateNucleotide {'G', 'T', 'A', 'C'}\n",
      "tail_plus4_A_percentage {0.0, 1.0, 0.35714285714285715}\n",
      "tail_plus4_C_percentage {0.0, 1.0, 0.67, 0.6428571428571429}\n",
      "tail_plus4_G_percentage {0.0, 1.0, 0.6666666666666666, 0.7037037037037037}\n",
      "tail_plus5_templateNucleotide {'G', 'T', 'A', 'C'}\n",
      "tail_plus5_A_percentage {0.0, 1.0, 0.043209876543209874, 0.16666666666666666}\n",
      "tail_plus5_G_percentage {0.0, 1.0, 0.35294117647058826, 0.8209876543209876}\n",
      "tail_plus6_templateNucleotide {'G', 'T', 'C', 'A'}\n",
      "tail_plus6_A_percentage {0.0, 1.0, 0.08}\n",
      "tail_plus6_T_percentage {0.0, 1.0, 0.2857142857142857}\n",
      "tail_plus6_G_percentage {0.0, 1.0, 0.9069767441860463}\n",
      "armType {'arm5', 'arm3', 'unmatchedRegion', 'loop'}\n",
      "hairpin_count {1, 2, 3, 4}\n",
      "UGU_UGUG_motif {'No', 'Yes'}\n",
      "pair_state {'No', 'Yes'}\n"
     ]
    }
   ],
   "source": [
    "for col in df.columns:\n",
    "    if len(set(df[col])) < 5:\n",
    "        print(col, set(df[col]))"
   ]
  },
  {
   "cell_type": "markdown",
   "id": "1639265d-997e-449b-8a58-5dae0a785637",
   "metadata": {},
   "source": [
    "Remove junk columns: the name of the cluster, as well as any column that has one unique value"
   ]
  },
  {
   "cell_type": "code",
   "execution_count": 147,
   "id": "e8e64bf7-7bcf-442e-8d48-8ace593b2003",
   "metadata": {},
   "outputs": [],
   "source": [
    "df_clean_columns = df[[col for col in df.columns if np.logical_and.reduce([len(set(df[col])) > 1, col != 'clusterName', 'template' not in col])]]"
   ]
  },
  {
   "cell_type": "code",
   "execution_count": 148,
   "id": "682e09fe-a0d9-462c-af69-3f72f74b4177",
   "metadata": {},
   "outputs": [],
   "source": [
    "df = df_clean_columns"
   ]
  },
  {
   "cell_type": "code",
   "execution_count": 149,
   "id": "26b951d0-2e5e-4ace-825b-f743be1c6414",
   "metadata": {},
   "outputs": [],
   "source": [
    "categorical_df = df[[col for col in df.columns if df[col].dtype == 'O']]"
   ]
  },
  {
   "cell_type": "code",
   "execution_count": 150,
   "id": "12c692d2-5e15-4e07-94f5-bc0b21a09437",
   "metadata": {},
   "outputs": [],
   "source": [
    "categorical_vars = categorical_df.columns.drop('rna_type')"
   ]
  },
  {
   "cell_type": "code",
   "execution_count": 151,
   "id": "6d768394-f307-4fa3-8bf2-42f256124e02",
   "metadata": {},
   "outputs": [],
   "source": [
    "df = df.drop(categorical_vars, axis=1).merge(pd.get_dummies(df_clean_columns[categorical_vars]), left_index=True, right_index=True)"
   ]
  },
  {
   "cell_type": "markdown",
   "id": "f85e4e4d-d45e-4f74-bf2f-ce0bc826ad22",
   "metadata": {},
   "source": [
    "Cross validate as they did in their paper"
   ]
  },
  {
   "cell_type": "code",
   "execution_count": 157,
   "id": "53302851-4672-4674-ad65-e65ddef076f1",
   "metadata": {},
   "outputs": [],
   "source": [
    "df_feat = df.drop('rna_type', axis=1)"
   ]
  },
  {
   "cell_type": "code",
   "execution_count": 158,
   "id": "185924d6-a352-446c-aed7-d3c40bb8f220",
   "metadata": {},
   "outputs": [],
   "source": [
    "df_target = df['rna_type']"
   ]
  },
  {
   "cell_type": "code",
   "execution_count": 3,
   "id": "7046f95d-661c-460f-9e53-e8d26d20ed3c",
   "metadata": {},
   "outputs": [],
   "source": [
    "import numpy as np"
   ]
  },
  {
   "cell_type": "code",
   "execution_count": 5,
   "id": "6e2adc80-f554-4e47-9f7f-e2bd77e84fd4",
   "metadata": {},
   "outputs": [],
   "source": [
    "test = np.array([[1, 2], [3, 4]])"
   ]
  },
  {
   "cell_type": "code",
   "execution_count": 7,
   "id": "f9e94205-e9d4-420d-8c7d-0fad7e9a1268",
   "metadata": {},
   "outputs": [],
   "source": [
    "np.save('testing', test)"
   ]
  },
  {
   "cell_type": "code",
   "execution_count": 159,
   "id": "8b17bc01-6860-4543-94c4-174ac3bba20d",
   "metadata": {},
   "outputs": [],
   "source": [
    "X_train, X_test, y_train, y_test = train_test_split(\n",
    "                        df_feat, np.ravel(df_target),\n",
    "                test_size = 0.20, random_state = 101)"
   ]
  },
  {
   "cell_type": "code",
   "execution_count": 160,
   "id": "14e20a62-d854-4aac-bc61-443b3ed87094",
   "metadata": {},
   "outputs": [
    {
     "data": {
      "text/plain": [
       "SVC()"
      ]
     },
     "execution_count": 160,
     "metadata": {},
     "output_type": "execute_result"
    }
   ],
   "source": [
    "model = svm.SVC()\n",
    "model.fit(X_train, y_train)"
   ]
  },
  {
   "cell_type": "code",
   "execution_count": 174,
   "id": "8ea5ede8-dd9f-4577-aa9d-c3827b2c6ae5",
   "metadata": {
    "collapsed": true,
    "jupyter": {
     "outputs_hidden": true
    },
    "tags": []
   },
   "outputs": [
    {
     "name": "stdout",
     "output_type": "stream",
     "text": [
      "Fitting 5 folds for each of 64 candidates, totalling 320 fits\n",
      "[CV 1/5] END .............C=0.0001, gamma=0.0001, kernel=rbf; total time=   0.8s\n",
      "[CV 2/5] END .............C=0.0001, gamma=0.0001, kernel=rbf; total time=   0.8s\n",
      "[CV 3/5] END .............C=0.0001, gamma=0.0001, kernel=rbf; total time=   0.7s\n",
      "[CV 4/5] END .............C=0.0001, gamma=0.0001, kernel=rbf; total time=   0.8s\n",
      "[CV 5/5] END .............C=0.0001, gamma=0.0001, kernel=rbf; total time=   0.7s\n",
      "[CV 1/5] END ..............C=0.0001, gamma=0.001, kernel=rbf; total time=   0.7s\n",
      "[CV 2/5] END ..............C=0.0001, gamma=0.001, kernel=rbf; total time=   0.7s\n",
      "[CV 3/5] END ..............C=0.0001, gamma=0.001, kernel=rbf; total time=   0.7s\n",
      "[CV 4/5] END ..............C=0.0001, gamma=0.001, kernel=rbf; total time=   0.7s\n",
      "[CV 5/5] END ..............C=0.0001, gamma=0.001, kernel=rbf; total time=   0.7s\n",
      "[CV 1/5] END ...............C=0.0001, gamma=0.01, kernel=rbf; total time=   0.7s\n",
      "[CV 2/5] END ...............C=0.0001, gamma=0.01, kernel=rbf; total time=   0.8s\n",
      "[CV 3/5] END ...............C=0.0001, gamma=0.01, kernel=rbf; total time=   0.7s\n",
      "[CV 4/5] END ...............C=0.0001, gamma=0.01, kernel=rbf; total time=   0.7s\n",
      "[CV 5/5] END ...............C=0.0001, gamma=0.01, kernel=rbf; total time=   0.8s\n",
      "[CV 1/5] END ................C=0.0001, gamma=0.1, kernel=rbf; total time=   0.8s\n",
      "[CV 2/5] END ................C=0.0001, gamma=0.1, kernel=rbf; total time=   0.8s\n",
      "[CV 3/5] END ................C=0.0001, gamma=0.1, kernel=rbf; total time=   0.7s\n",
      "[CV 4/5] END ................C=0.0001, gamma=0.1, kernel=rbf; total time=   0.8s\n",
      "[CV 5/5] END ................C=0.0001, gamma=0.1, kernel=rbf; total time=   0.7s\n",
      "[CV 1/5] END ................C=0.0001, gamma=1.0, kernel=rbf; total time=   0.7s\n",
      "[CV 2/5] END ................C=0.0001, gamma=1.0, kernel=rbf; total time=   0.7s\n",
      "[CV 3/5] END ................C=0.0001, gamma=1.0, kernel=rbf; total time=   0.7s\n",
      "[CV 4/5] END ................C=0.0001, gamma=1.0, kernel=rbf; total time=   0.7s\n",
      "[CV 5/5] END ................C=0.0001, gamma=1.0, kernel=rbf; total time=   0.7s\n",
      "[CV 1/5] END ...............C=0.0001, gamma=10.0, kernel=rbf; total time=   0.6s\n",
      "[CV 2/5] END ...............C=0.0001, gamma=10.0, kernel=rbf; total time=   0.6s\n",
      "[CV 3/5] END ...............C=0.0001, gamma=10.0, kernel=rbf; total time=   0.7s\n",
      "[CV 4/5] END ...............C=0.0001, gamma=10.0, kernel=rbf; total time=   0.7s\n",
      "[CV 5/5] END ...............C=0.0001, gamma=10.0, kernel=rbf; total time=   0.7s\n",
      "[CV 1/5] END ..............C=0.0001, gamma=100.0, kernel=rbf; total time=   0.7s\n",
      "[CV 2/5] END ..............C=0.0001, gamma=100.0, kernel=rbf; total time=   0.6s\n",
      "[CV 3/5] END ..............C=0.0001, gamma=100.0, kernel=rbf; total time=   0.6s\n",
      "[CV 4/5] END ..............C=0.0001, gamma=100.0, kernel=rbf; total time=   0.7s\n",
      "[CV 5/5] END ..............C=0.0001, gamma=100.0, kernel=rbf; total time=   0.6s\n",
      "[CV 1/5] END .............C=0.0001, gamma=1000.0, kernel=rbf; total time=   0.8s\n",
      "[CV 2/5] END .............C=0.0001, gamma=1000.0, kernel=rbf; total time=   0.8s\n",
      "[CV 3/5] END .............C=0.0001, gamma=1000.0, kernel=rbf; total time=   0.7s\n",
      "[CV 4/5] END .............C=0.0001, gamma=1000.0, kernel=rbf; total time=   0.8s\n",
      "[CV 5/5] END .............C=0.0001, gamma=1000.0, kernel=rbf; total time=   0.8s\n",
      "[CV 1/5] END ..............C=0.001, gamma=0.0001, kernel=rbf; total time=   0.9s\n",
      "[CV 2/5] END ..............C=0.001, gamma=0.0001, kernel=rbf; total time=   1.0s\n",
      "[CV 3/5] END ..............C=0.001, gamma=0.0001, kernel=rbf; total time=   0.9s\n",
      "[CV 4/5] END ..............C=0.001, gamma=0.0001, kernel=rbf; total time=   0.9s\n",
      "[CV 5/5] END ..............C=0.001, gamma=0.0001, kernel=rbf; total time=   0.9s\n",
      "[CV 1/5] END ...............C=0.001, gamma=0.001, kernel=rbf; total time=   0.9s\n",
      "[CV 2/5] END ...............C=0.001, gamma=0.001, kernel=rbf; total time=   1.1s\n",
      "[CV 3/5] END ...............C=0.001, gamma=0.001, kernel=rbf; total time=   0.9s\n",
      "[CV 4/5] END ...............C=0.001, gamma=0.001, kernel=rbf; total time=   1.0s\n",
      "[CV 5/5] END ...............C=0.001, gamma=0.001, kernel=rbf; total time=   1.0s\n",
      "[CV 1/5] END ................C=0.001, gamma=0.01, kernel=rbf; total time=   1.0s\n",
      "[CV 2/5] END ................C=0.001, gamma=0.01, kernel=rbf; total time=   1.1s\n",
      "[CV 3/5] END ................C=0.001, gamma=0.01, kernel=rbf; total time=   0.9s\n",
      "[CV 4/5] END ................C=0.001, gamma=0.01, kernel=rbf; total time=   0.8s\n",
      "[CV 5/5] END ................C=0.001, gamma=0.01, kernel=rbf; total time=   1.0s\n",
      "[CV 1/5] END .................C=0.001, gamma=0.1, kernel=rbf; total time=   0.9s\n",
      "[CV 2/5] END .................C=0.001, gamma=0.1, kernel=rbf; total time=   1.0s\n",
      "[CV 3/5] END .................C=0.001, gamma=0.1, kernel=rbf; total time=   0.9s\n",
      "[CV 4/5] END .................C=0.001, gamma=0.1, kernel=rbf; total time=   1.0s\n",
      "[CV 5/5] END .................C=0.001, gamma=0.1, kernel=rbf; total time=   0.9s\n",
      "[CV 1/5] END .................C=0.001, gamma=1.0, kernel=rbf; total time=   0.8s\n",
      "[CV 2/5] END .................C=0.001, gamma=1.0, kernel=rbf; total time=   0.9s\n",
      "[CV 3/5] END .................C=0.001, gamma=1.0, kernel=rbf; total time=   0.8s\n",
      "[CV 4/5] END .................C=0.001, gamma=1.0, kernel=rbf; total time=   0.8s\n",
      "[CV 5/5] END .................C=0.001, gamma=1.0, kernel=rbf; total time=   0.7s\n",
      "[CV 1/5] END ................C=0.001, gamma=10.0, kernel=rbf; total time=   0.7s\n",
      "[CV 2/5] END ................C=0.001, gamma=10.0, kernel=rbf; total time=   0.7s\n",
      "[CV 3/5] END ................C=0.001, gamma=10.0, kernel=rbf; total time=   0.8s\n",
      "[CV 4/5] END ................C=0.001, gamma=10.0, kernel=rbf; total time=   0.7s\n",
      "[CV 5/5] END ................C=0.001, gamma=10.0, kernel=rbf; total time=   0.7s\n",
      "[CV 1/5] END ...............C=0.001, gamma=100.0, kernel=rbf; total time=   0.8s\n",
      "[CV 2/5] END ...............C=0.001, gamma=100.0, kernel=rbf; total time=   0.9s\n",
      "[CV 3/5] END ...............C=0.001, gamma=100.0, kernel=rbf; total time=   0.8s\n",
      "[CV 4/5] END ...............C=0.001, gamma=100.0, kernel=rbf; total time=   0.8s\n",
      "[CV 5/5] END ...............C=0.001, gamma=100.0, kernel=rbf; total time=   0.8s\n",
      "[CV 1/5] END ..............C=0.001, gamma=1000.0, kernel=rbf; total time=   0.7s\n",
      "[CV 2/5] END ..............C=0.001, gamma=1000.0, kernel=rbf; total time=   0.7s\n",
      "[CV 3/5] END ..............C=0.001, gamma=1000.0, kernel=rbf; total time=   0.8s\n",
      "[CV 4/5] END ..............C=0.001, gamma=1000.0, kernel=rbf; total time=   0.9s\n",
      "[CV 5/5] END ..............C=0.001, gamma=1000.0, kernel=rbf; total time=   0.8s\n",
      "[CV 1/5] END ...............C=0.01, gamma=0.0001, kernel=rbf; total time=   0.9s\n",
      "[CV 2/5] END ...............C=0.01, gamma=0.0001, kernel=rbf; total time=   0.8s\n",
      "[CV 3/5] END ...............C=0.01, gamma=0.0001, kernel=rbf; total time=   0.9s\n",
      "[CV 4/5] END ...............C=0.01, gamma=0.0001, kernel=rbf; total time=   0.9s\n",
      "[CV 5/5] END ...............C=0.01, gamma=0.0001, kernel=rbf; total time=   0.9s\n",
      "[CV 1/5] END ................C=0.01, gamma=0.001, kernel=rbf; total time=   1.0s\n",
      "[CV 2/5] END ................C=0.01, gamma=0.001, kernel=rbf; total time=   0.9s\n",
      "[CV 3/5] END ................C=0.01, gamma=0.001, kernel=rbf; total time=   0.9s\n",
      "[CV 4/5] END ................C=0.01, gamma=0.001, kernel=rbf; total time=   0.9s\n",
      "[CV 5/5] END ................C=0.01, gamma=0.001, kernel=rbf; total time=   1.0s\n",
      "[CV 1/5] END .................C=0.01, gamma=0.01, kernel=rbf; total time=   1.1s\n",
      "[CV 2/5] END .................C=0.01, gamma=0.01, kernel=rbf; total time=   1.0s\n",
      "[CV 3/5] END .................C=0.01, gamma=0.01, kernel=rbf; total time=   1.0s\n",
      "[CV 4/5] END .................C=0.01, gamma=0.01, kernel=rbf; total time=   0.9s\n",
      "[CV 5/5] END .................C=0.01, gamma=0.01, kernel=rbf; total time=   0.9s\n",
      "[CV 1/5] END ..................C=0.01, gamma=0.1, kernel=rbf; total time=   1.0s\n",
      "[CV 2/5] END ..................C=0.01, gamma=0.1, kernel=rbf; total time=   1.3s\n",
      "[CV 3/5] END ..................C=0.01, gamma=0.1, kernel=rbf; total time=   1.1s\n",
      "[CV 4/5] END ..................C=0.01, gamma=0.1, kernel=rbf; total time=   1.1s\n",
      "[CV 5/5] END ..................C=0.01, gamma=0.1, kernel=rbf; total time=   1.2s\n",
      "[CV 1/5] END ..................C=0.01, gamma=1.0, kernel=rbf; total time=   1.1s\n",
      "[CV 2/5] END ..................C=0.01, gamma=1.0, kernel=rbf; total time=   1.0s\n",
      "[CV 3/5] END ..................C=0.01, gamma=1.0, kernel=rbf; total time=   1.3s\n",
      "[CV 4/5] END ..................C=0.01, gamma=1.0, kernel=rbf; total time=   1.2s\n",
      "[CV 5/5] END ..................C=0.01, gamma=1.0, kernel=rbf; total time=   1.0s\n",
      "[CV 1/5] END .................C=0.01, gamma=10.0, kernel=rbf; total time=   1.1s\n",
      "[CV 2/5] END .................C=0.01, gamma=10.0, kernel=rbf; total time=   1.1s\n",
      "[CV 3/5] END .................C=0.01, gamma=10.0, kernel=rbf; total time=   1.1s\n",
      "[CV 4/5] END .................C=0.01, gamma=10.0, kernel=rbf; total time=   0.9s\n",
      "[CV 5/5] END .................C=0.01, gamma=10.0, kernel=rbf; total time=   0.9s\n",
      "[CV 1/5] END ................C=0.01, gamma=100.0, kernel=rbf; total time=   1.3s\n",
      "[CV 2/5] END ................C=0.01, gamma=100.0, kernel=rbf; total time=   1.1s\n",
      "[CV 3/5] END ................C=0.01, gamma=100.0, kernel=rbf; total time=   1.0s\n",
      "[CV 4/5] END ................C=0.01, gamma=100.0, kernel=rbf; total time=   1.0s\n",
      "[CV 5/5] END ................C=0.01, gamma=100.0, kernel=rbf; total time=   1.1s\n",
      "[CV 1/5] END ...............C=0.01, gamma=1000.0, kernel=rbf; total time=   1.0s\n",
      "[CV 2/5] END ...............C=0.01, gamma=1000.0, kernel=rbf; total time=   0.9s\n",
      "[CV 3/5] END ...............C=0.01, gamma=1000.0, kernel=rbf; total time=   1.0s\n",
      "[CV 4/5] END ...............C=0.01, gamma=1000.0, kernel=rbf; total time=   1.1s\n",
      "[CV 5/5] END ...............C=0.01, gamma=1000.0, kernel=rbf; total time=   1.1s\n",
      "[CV 1/5] END ................C=0.1, gamma=0.0001, kernel=rbf; total time=   0.9s\n",
      "[CV 2/5] END ................C=0.1, gamma=0.0001, kernel=rbf; total time=   0.9s\n",
      "[CV 3/5] END ................C=0.1, gamma=0.0001, kernel=rbf; total time=   0.9s\n",
      "[CV 4/5] END ................C=0.1, gamma=0.0001, kernel=rbf; total time=   0.9s\n",
      "[CV 5/5] END ................C=0.1, gamma=0.0001, kernel=rbf; total time=   0.9s\n",
      "[CV 1/5] END .................C=0.1, gamma=0.001, kernel=rbf; total time=   1.0s\n",
      "[CV 2/5] END .................C=0.1, gamma=0.001, kernel=rbf; total time=   1.0s\n",
      "[CV 3/5] END .................C=0.1, gamma=0.001, kernel=rbf; total time=   1.0s\n",
      "[CV 4/5] END .................C=0.1, gamma=0.001, kernel=rbf; total time=   0.9s\n",
      "[CV 5/5] END .................C=0.1, gamma=0.001, kernel=rbf; total time=   0.9s\n",
      "[CV 1/5] END ..................C=0.1, gamma=0.01, kernel=rbf; total time=   1.2s\n",
      "[CV 2/5] END ..................C=0.1, gamma=0.01, kernel=rbf; total time=   1.2s\n",
      "[CV 3/5] END ..................C=0.1, gamma=0.01, kernel=rbf; total time=   1.3s\n",
      "[CV 4/5] END ..................C=0.1, gamma=0.01, kernel=rbf; total time=   1.2s\n",
      "[CV 5/5] END ..................C=0.1, gamma=0.01, kernel=rbf; total time=   1.2s\n",
      "[CV 1/5] END ...................C=0.1, gamma=0.1, kernel=rbf; total time=   1.4s\n",
      "[CV 2/5] END ...................C=0.1, gamma=0.1, kernel=rbf; total time=   1.3s\n",
      "[CV 3/5] END ...................C=0.1, gamma=0.1, kernel=rbf; total time=   1.2s\n",
      "[CV 4/5] END ...................C=0.1, gamma=0.1, kernel=rbf; total time=   1.2s\n",
      "[CV 5/5] END ...................C=0.1, gamma=0.1, kernel=rbf; total time=   1.3s\n",
      "[CV 1/5] END ...................C=0.1, gamma=1.0, kernel=rbf; total time=   1.2s\n",
      "[CV 2/5] END ...................C=0.1, gamma=1.0, kernel=rbf; total time=   1.1s\n",
      "[CV 3/5] END ...................C=0.1, gamma=1.0, kernel=rbf; total time=   1.2s\n",
      "[CV 4/5] END ...................C=0.1, gamma=1.0, kernel=rbf; total time=   1.2s\n",
      "[CV 5/5] END ...................C=0.1, gamma=1.0, kernel=rbf; total time=   1.4s\n",
      "[CV 1/5] END ..................C=0.1, gamma=10.0, kernel=rbf; total time=   1.3s\n",
      "[CV 2/5] END ..................C=0.1, gamma=10.0, kernel=rbf; total time=   1.2s\n",
      "[CV 3/5] END ..................C=0.1, gamma=10.0, kernel=rbf; total time=   1.2s\n",
      "[CV 4/5] END ..................C=0.1, gamma=10.0, kernel=rbf; total time=   1.2s\n",
      "[CV 5/5] END ..................C=0.1, gamma=10.0, kernel=rbf; total time=   1.1s\n",
      "[CV 1/5] END .................C=0.1, gamma=100.0, kernel=rbf; total time=   1.2s\n",
      "[CV 2/5] END .................C=0.1, gamma=100.0, kernel=rbf; total time=   1.2s\n",
      "[CV 3/5] END .................C=0.1, gamma=100.0, kernel=rbf; total time=   1.2s\n",
      "[CV 4/5] END .................C=0.1, gamma=100.0, kernel=rbf; total time=   1.4s\n",
      "[CV 5/5] END .................C=0.1, gamma=100.0, kernel=rbf; total time=   1.2s\n",
      "[CV 1/5] END ................C=0.1, gamma=1000.0, kernel=rbf; total time=   1.3s\n",
      "[CV 2/5] END ................C=0.1, gamma=1000.0, kernel=rbf; total time=   1.3s\n",
      "[CV 3/5] END ................C=0.1, gamma=1000.0, kernel=rbf; total time=   1.2s\n",
      "[CV 4/5] END ................C=0.1, gamma=1000.0, kernel=rbf; total time=   1.2s\n",
      "[CV 5/5] END ................C=0.1, gamma=1000.0, kernel=rbf; total time=   1.1s\n",
      "[CV 1/5] END ................C=1.0, gamma=0.0001, kernel=rbf; total time=   0.8s\n",
      "[CV 2/5] END ................C=1.0, gamma=0.0001, kernel=rbf; total time=   0.9s\n",
      "[CV 3/5] END ................C=1.0, gamma=0.0001, kernel=rbf; total time=   0.9s\n",
      "[CV 4/5] END ................C=1.0, gamma=0.0001, kernel=rbf; total time=   0.8s\n",
      "[CV 5/5] END ................C=1.0, gamma=0.0001, kernel=rbf; total time=   1.0s\n",
      "[CV 1/5] END .................C=1.0, gamma=0.001, kernel=rbf; total time=   1.0s\n",
      "[CV 2/5] END .................C=1.0, gamma=0.001, kernel=rbf; total time=   0.9s\n",
      "[CV 3/5] END .................C=1.0, gamma=0.001, kernel=rbf; total time=   0.9s\n",
      "[CV 4/5] END .................C=1.0, gamma=0.001, kernel=rbf; total time=   0.8s\n",
      "[CV 5/5] END .................C=1.0, gamma=0.001, kernel=rbf; total time=   0.9s\n",
      "[CV 1/5] END ..................C=1.0, gamma=0.01, kernel=rbf; total time=   1.3s\n",
      "[CV 2/5] END ..................C=1.0, gamma=0.01, kernel=rbf; total time=   1.2s\n",
      "[CV 3/5] END ..................C=1.0, gamma=0.01, kernel=rbf; total time=   1.2s\n",
      "[CV 4/5] END ..................C=1.0, gamma=0.01, kernel=rbf; total time=   1.2s\n",
      "[CV 5/5] END ..................C=1.0, gamma=0.01, kernel=rbf; total time=   1.2s\n",
      "[CV 1/5] END ...................C=1.0, gamma=0.1, kernel=rbf; total time=   1.2s\n",
      "[CV 2/5] END ...................C=1.0, gamma=0.1, kernel=rbf; total time=   1.4s\n",
      "[CV 3/5] END ...................C=1.0, gamma=0.1, kernel=rbf; total time=   1.4s\n",
      "[CV 4/5] END ...................C=1.0, gamma=0.1, kernel=rbf; total time=   1.3s\n",
      "[CV 5/5] END ...................C=1.0, gamma=0.1, kernel=rbf; total time=   1.3s\n",
      "[CV 1/5] END ...................C=1.0, gamma=1.0, kernel=rbf; total time=   1.4s\n",
      "[CV 2/5] END ...................C=1.0, gamma=1.0, kernel=rbf; total time=   1.3s\n",
      "[CV 3/5] END ...................C=1.0, gamma=1.0, kernel=rbf; total time=   1.3s\n",
      "[CV 4/5] END ...................C=1.0, gamma=1.0, kernel=rbf; total time=   1.2s\n",
      "[CV 5/5] END ...................C=1.0, gamma=1.0, kernel=rbf; total time=   1.3s\n",
      "[CV 1/5] END ..................C=1.0, gamma=10.0, kernel=rbf; total time=   1.2s\n",
      "[CV 2/5] END ..................C=1.0, gamma=10.0, kernel=rbf; total time=   1.3s\n",
      "[CV 3/5] END ..................C=1.0, gamma=10.0, kernel=rbf; total time=   1.3s\n",
      "[CV 4/5] END ..................C=1.0, gamma=10.0, kernel=rbf; total time=   1.1s\n",
      "[CV 5/5] END ..................C=1.0, gamma=10.0, kernel=rbf; total time=   1.1s\n",
      "[CV 1/5] END .................C=1.0, gamma=100.0, kernel=rbf; total time=   1.3s\n",
      "[CV 2/5] END .................C=1.0, gamma=100.0, kernel=rbf; total time=   1.3s\n",
      "[CV 3/5] END .................C=1.0, gamma=100.0, kernel=rbf; total time=   1.1s\n",
      "[CV 4/5] END .................C=1.0, gamma=100.0, kernel=rbf; total time=   1.2s\n",
      "[CV 5/5] END .................C=1.0, gamma=100.0, kernel=rbf; total time=   1.3s\n",
      "[CV 1/5] END ................C=1.0, gamma=1000.0, kernel=rbf; total time=   1.2s\n",
      "[CV 2/5] END ................C=1.0, gamma=1000.0, kernel=rbf; total time=   1.4s\n",
      "[CV 3/5] END ................C=1.0, gamma=1000.0, kernel=rbf; total time=   1.2s\n",
      "[CV 4/5] END ................C=1.0, gamma=1000.0, kernel=rbf; total time=   1.2s\n",
      "[CV 5/5] END ................C=1.0, gamma=1000.0, kernel=rbf; total time=   1.4s\n",
      "[CV 1/5] END ...............C=10.0, gamma=0.0001, kernel=rbf; total time=   0.9s\n",
      "[CV 2/5] END ...............C=10.0, gamma=0.0001, kernel=rbf; total time=   0.8s\n",
      "[CV 3/5] END ...............C=10.0, gamma=0.0001, kernel=rbf; total time=   0.9s\n",
      "[CV 4/5] END ...............C=10.0, gamma=0.0001, kernel=rbf; total time=   0.8s\n",
      "[CV 5/5] END ...............C=10.0, gamma=0.0001, kernel=rbf; total time=   0.8s\n",
      "[CV 1/5] END ................C=10.0, gamma=0.001, kernel=rbf; total time=   0.9s\n",
      "[CV 2/5] END ................C=10.0, gamma=0.001, kernel=rbf; total time=   0.8s\n",
      "[CV 3/5] END ................C=10.0, gamma=0.001, kernel=rbf; total time=   0.8s\n",
      "[CV 4/5] END ................C=10.0, gamma=0.001, kernel=rbf; total time=   0.9s\n",
      "[CV 5/5] END ................C=10.0, gamma=0.001, kernel=rbf; total time=   1.0s\n",
      "[CV 1/5] END .................C=10.0, gamma=0.01, kernel=rbf; total time=   1.3s\n",
      "[CV 2/5] END .................C=10.0, gamma=0.01, kernel=rbf; total time=   1.2s\n",
      "[CV 3/5] END .................C=10.0, gamma=0.01, kernel=rbf; total time=   1.2s\n",
      "[CV 4/5] END .................C=10.0, gamma=0.01, kernel=rbf; total time=   1.2s\n",
      "[CV 5/5] END .................C=10.0, gamma=0.01, kernel=rbf; total time=   1.2s\n",
      "[CV 1/5] END ..................C=10.0, gamma=0.1, kernel=rbf; total time=   1.3s\n",
      "[CV 2/5] END ..................C=10.0, gamma=0.1, kernel=rbf; total time=   1.5s\n",
      "[CV 3/5] END ..................C=10.0, gamma=0.1, kernel=rbf; total time=   1.3s\n",
      "[CV 4/5] END ..................C=10.0, gamma=0.1, kernel=rbf; total time=   1.3s\n",
      "[CV 5/5] END ..................C=10.0, gamma=0.1, kernel=rbf; total time=   1.3s\n",
      "[CV 1/5] END ..................C=10.0, gamma=1.0, kernel=rbf; total time=   1.3s\n",
      "[CV 2/5] END ..................C=10.0, gamma=1.0, kernel=rbf; total time=   1.3s\n",
      "[CV 3/5] END ..................C=10.0, gamma=1.0, kernel=rbf; total time=   1.3s\n",
      "[CV 4/5] END ..................C=10.0, gamma=1.0, kernel=rbf; total time=   1.3s\n",
      "[CV 5/5] END ..................C=10.0, gamma=1.0, kernel=rbf; total time=   1.2s\n",
      "[CV 1/5] END .................C=10.0, gamma=10.0, kernel=rbf; total time=   1.2s\n",
      "[CV 2/5] END .................C=10.0, gamma=10.0, kernel=rbf; total time=   1.2s\n",
      "[CV 3/5] END .................C=10.0, gamma=10.0, kernel=rbf; total time=   1.2s\n",
      "[CV 4/5] END .................C=10.0, gamma=10.0, kernel=rbf; total time=   1.2s\n",
      "[CV 5/5] END .................C=10.0, gamma=10.0, kernel=rbf; total time=   1.2s\n",
      "[CV 1/5] END ................C=10.0, gamma=100.0, kernel=rbf; total time=   1.3s\n",
      "[CV 2/5] END ................C=10.0, gamma=100.0, kernel=rbf; total time=   1.2s\n",
      "[CV 3/5] END ................C=10.0, gamma=100.0, kernel=rbf; total time=   1.2s\n",
      "[CV 4/5] END ................C=10.0, gamma=100.0, kernel=rbf; total time=   1.2s\n",
      "[CV 5/5] END ................C=10.0, gamma=100.0, kernel=rbf; total time=   1.3s\n",
      "[CV 1/5] END ...............C=10.0, gamma=1000.0, kernel=rbf; total time=   1.3s\n",
      "[CV 2/5] END ...............C=10.0, gamma=1000.0, kernel=rbf; total time=   1.2s\n",
      "[CV 3/5] END ...............C=10.0, gamma=1000.0, kernel=rbf; total time=   1.2s\n",
      "[CV 4/5] END ...............C=10.0, gamma=1000.0, kernel=rbf; total time=   1.3s\n",
      "[CV 5/5] END ...............C=10.0, gamma=1000.0, kernel=rbf; total time=   1.1s\n",
      "[CV 1/5] END ..............C=100.0, gamma=0.0001, kernel=rbf; total time=   0.9s\n",
      "[CV 2/5] END ..............C=100.0, gamma=0.0001, kernel=rbf; total time=   1.0s\n",
      "[CV 3/5] END ..............C=100.0, gamma=0.0001, kernel=rbf; total time=   1.0s\n",
      "[CV 4/5] END ..............C=100.0, gamma=0.0001, kernel=rbf; total time=   0.9s\n",
      "[CV 5/5] END ..............C=100.0, gamma=0.0001, kernel=rbf; total time=   0.9s\n",
      "[CV 1/5] END ...............C=100.0, gamma=0.001, kernel=rbf; total time=   1.0s\n",
      "[CV 2/5] END ...............C=100.0, gamma=0.001, kernel=rbf; total time=   1.0s\n",
      "[CV 3/5] END ...............C=100.0, gamma=0.001, kernel=rbf; total time=   1.1s\n",
      "[CV 4/5] END ...............C=100.0, gamma=0.001, kernel=rbf; total time=   1.1s\n",
      "[CV 5/5] END ...............C=100.0, gamma=0.001, kernel=rbf; total time=   1.2s\n",
      "[CV 1/5] END ................C=100.0, gamma=0.01, kernel=rbf; total time=   1.4s\n",
      "[CV 2/5] END ................C=100.0, gamma=0.01, kernel=rbf; total time=   1.5s\n",
      "[CV 3/5] END ................C=100.0, gamma=0.01, kernel=rbf; total time=   1.4s\n",
      "[CV 4/5] END ................C=100.0, gamma=0.01, kernel=rbf; total time=   1.4s\n",
      "[CV 5/5] END ................C=100.0, gamma=0.01, kernel=rbf; total time=   1.4s\n",
      "[CV 1/5] END .................C=100.0, gamma=0.1, kernel=rbf; total time=   1.4s\n",
      "[CV 2/5] END .................C=100.0, gamma=0.1, kernel=rbf; total time=   1.3s\n",
      "[CV 3/5] END .................C=100.0, gamma=0.1, kernel=rbf; total time=   1.3s\n",
      "[CV 4/5] END .................C=100.0, gamma=0.1, kernel=rbf; total time=   1.5s\n",
      "[CV 5/5] END .................C=100.0, gamma=0.1, kernel=rbf; total time=   1.4s\n",
      "[CV 1/5] END .................C=100.0, gamma=1.0, kernel=rbf; total time=   1.3s\n",
      "[CV 2/5] END .................C=100.0, gamma=1.0, kernel=rbf; total time=   1.3s\n",
      "[CV 3/5] END .................C=100.0, gamma=1.0, kernel=rbf; total time=   1.2s\n",
      "[CV 4/5] END .................C=100.0, gamma=1.0, kernel=rbf; total time=   1.2s\n",
      "[CV 5/5] END .................C=100.0, gamma=1.0, kernel=rbf; total time=   1.3s\n",
      "[CV 1/5] END ................C=100.0, gamma=10.0, kernel=rbf; total time=   1.2s\n",
      "[CV 2/5] END ................C=100.0, gamma=10.0, kernel=rbf; total time=   1.3s\n",
      "[CV 3/5] END ................C=100.0, gamma=10.0, kernel=rbf; total time=   1.2s\n",
      "[CV 4/5] END ................C=100.0, gamma=10.0, kernel=rbf; total time=   1.5s\n",
      "[CV 5/5] END ................C=100.0, gamma=10.0, kernel=rbf; total time=   1.3s\n",
      "[CV 1/5] END ...............C=100.0, gamma=100.0, kernel=rbf; total time=   1.2s\n",
      "[CV 2/5] END ...............C=100.0, gamma=100.0, kernel=rbf; total time=   1.2s\n",
      "[CV 3/5] END ...............C=100.0, gamma=100.0, kernel=rbf; total time=   1.2s\n",
      "[CV 4/5] END ...............C=100.0, gamma=100.0, kernel=rbf; total time=   1.2s\n",
      "[CV 5/5] END ...............C=100.0, gamma=100.0, kernel=rbf; total time=   1.3s\n",
      "[CV 1/5] END ..............C=100.0, gamma=1000.0, kernel=rbf; total time=   1.2s\n",
      "[CV 2/5] END ..............C=100.0, gamma=1000.0, kernel=rbf; total time=   1.2s\n",
      "[CV 3/5] END ..............C=100.0, gamma=1000.0, kernel=rbf; total time=   1.3s\n",
      "[CV 4/5] END ..............C=100.0, gamma=1000.0, kernel=rbf; total time=   1.2s\n",
      "[CV 5/5] END ..............C=100.0, gamma=1000.0, kernel=rbf; total time=   1.6s\n",
      "[CV 1/5] END .............C=1000.0, gamma=0.0001, kernel=rbf; total time=   1.7s\n",
      "[CV 2/5] END .............C=1000.0, gamma=0.0001, kernel=rbf; total time=   1.6s\n",
      "[CV 3/5] END .............C=1000.0, gamma=0.0001, kernel=rbf; total time=   2.1s\n",
      "[CV 4/5] END .............C=1000.0, gamma=0.0001, kernel=rbf; total time=   2.0s\n",
      "[CV 5/5] END .............C=1000.0, gamma=0.0001, kernel=rbf; total time=   1.9s\n",
      "[CV 1/5] END ..............C=1000.0, gamma=0.001, kernel=rbf; total time=   2.0s\n",
      "[CV 2/5] END ..............C=1000.0, gamma=0.001, kernel=rbf; total time=   1.9s\n",
      "[CV 3/5] END ..............C=1000.0, gamma=0.001, kernel=rbf; total time=   2.1s\n",
      "[CV 4/5] END ..............C=1000.0, gamma=0.001, kernel=rbf; total time=   2.0s\n",
      "[CV 5/5] END ..............C=1000.0, gamma=0.001, kernel=rbf; total time=   1.7s\n",
      "[CV 1/5] END ...............C=1000.0, gamma=0.01, kernel=rbf; total time=   1.2s\n",
      "[CV 2/5] END ...............C=1000.0, gamma=0.01, kernel=rbf; total time=   1.3s\n",
      "[CV 3/5] END ...............C=1000.0, gamma=0.01, kernel=rbf; total time=   1.2s\n",
      "[CV 4/5] END ...............C=1000.0, gamma=0.01, kernel=rbf; total time=   1.2s\n",
      "[CV 5/5] END ...............C=1000.0, gamma=0.01, kernel=rbf; total time=   1.3s\n",
      "[CV 1/5] END ................C=1000.0, gamma=0.1, kernel=rbf; total time=   1.3s\n",
      "[CV 2/5] END ................C=1000.0, gamma=0.1, kernel=rbf; total time=   1.4s\n",
      "[CV 3/5] END ................C=1000.0, gamma=0.1, kernel=rbf; total time=   1.4s\n",
      "[CV 4/5] END ................C=1000.0, gamma=0.1, kernel=rbf; total time=   1.4s\n",
      "[CV 5/5] END ................C=1000.0, gamma=0.1, kernel=rbf; total time=   1.2s\n",
      "[CV 1/5] END ................C=1000.0, gamma=1.0, kernel=rbf; total time=   1.2s\n",
      "[CV 2/5] END ................C=1000.0, gamma=1.0, kernel=rbf; total time=   1.2s\n",
      "[CV 3/5] END ................C=1000.0, gamma=1.0, kernel=rbf; total time=   1.2s\n",
      "[CV 4/5] END ................C=1000.0, gamma=1.0, kernel=rbf; total time=   1.2s\n",
      "[CV 5/5] END ................C=1000.0, gamma=1.0, kernel=rbf; total time=   1.2s\n",
      "[CV 1/5] END ...............C=1000.0, gamma=10.0, kernel=rbf; total time=   1.3s\n",
      "[CV 2/5] END ...............C=1000.0, gamma=10.0, kernel=rbf; total time=   1.1s\n",
      "[CV 3/5] END ...............C=1000.0, gamma=10.0, kernel=rbf; total time=   1.2s\n",
      "[CV 4/5] END ...............C=1000.0, gamma=10.0, kernel=rbf; total time=   1.1s\n",
      "[CV 5/5] END ...............C=1000.0, gamma=10.0, kernel=rbf; total time=   1.1s\n",
      "[CV 1/5] END ..............C=1000.0, gamma=100.0, kernel=rbf; total time=   1.3s\n",
      "[CV 2/5] END ..............C=1000.0, gamma=100.0, kernel=rbf; total time=   1.1s\n",
      "[CV 3/5] END ..............C=1000.0, gamma=100.0, kernel=rbf; total time=   1.2s\n",
      "[CV 4/5] END ..............C=1000.0, gamma=100.0, kernel=rbf; total time=   1.3s\n",
      "[CV 5/5] END ..............C=1000.0, gamma=100.0, kernel=rbf; total time=   1.2s\n",
      "[CV 1/5] END .............C=1000.0, gamma=1000.0, kernel=rbf; total time=   1.3s\n",
      "[CV 2/5] END .............C=1000.0, gamma=1000.0, kernel=rbf; total time=   1.4s\n",
      "[CV 3/5] END .............C=1000.0, gamma=1000.0, kernel=rbf; total time=   1.4s\n",
      "[CV 4/5] END .............C=1000.0, gamma=1000.0, kernel=rbf; total time=   1.4s\n",
      "[CV 5/5] END .............C=1000.0, gamma=1000.0, kernel=rbf; total time=   1.4s\n"
     ]
    },
    {
     "data": {
      "text/plain": [
       "GridSearchCV(estimator=SVC(),\n",
       "             param_grid={'C': array([1.e-04, 1.e-03, 1.e-02, 1.e-01, 1.e+00, 1.e+01, 1.e+02, 1.e+03]),\n",
       "                         'gamma': array([1.e-04, 1.e-03, 1.e-02, 1.e-01, 1.e+00, 1.e+01, 1.e+02, 1.e+03]),\n",
       "                         'kernel': ['rbf']},\n",
       "             verbose=3)"
      ]
     },
     "execution_count": 174,
     "metadata": {},
     "output_type": "execute_result"
    }
   ],
   "source": [
    "# defining parameter range\n",
    "param_range = 10**np.arange(-4, 4, dtype=float)\n",
    "param_grid = {'C': param_range,\n",
    "              'gamma': param_range,\n",
    "              'kernel': ['rbf']}\n",
    "\n",
    "grid = GridSearchCV(svm.SVC(), param_grid, refit = True, verbose = 3)\n",
    " \n",
    "# fitting the model for grid search\n",
    "grid.fit(X_train, y_train)"
   ]
  },
  {
   "cell_type": "code",
   "execution_count": 175,
   "id": "b20e90d6-1f0b-43cb-bfc1-af683e57b5f2",
   "metadata": {},
   "outputs": [
    {
     "name": "stdout",
     "output_type": "stream",
     "text": [
      "{'C': 1.0, 'gamma': 0.0001, 'kernel': 'rbf'}\n",
      "SVC(gamma=0.0001)\n"
     ]
    }
   ],
   "source": [
    "# print best parameter after tuning\n",
    "print(grid.best_params_)\n",
    " \n",
    "# print how our model looks after hyper-parameter tuning\n",
    "print(grid.best_estimator_)"
   ]
  },
  {
   "cell_type": "code",
   "execution_count": 176,
   "id": "ee26fff6-e3ef-47b2-a717-84f31fd7bc18",
   "metadata": {},
   "outputs": [],
   "source": [
    "grid_predictions = grid.predict(X_test)"
   ]
  },
  {
   "cell_type": "code",
   "execution_count": 179,
   "id": "9e9c8f1b-8464-4729-854a-b3e64f0ccdef",
   "metadata": {},
   "outputs": [
    {
     "name": "stdout",
     "output_type": "stream",
     "text": [
      "              precision    recall  f1-score   support\n",
      "\n",
      "      lncRNA       0.41      0.31      0.35       358\n",
      "       miRNA       0.59      0.88      0.70       441\n",
      "     miscRNA       0.00      0.00      0.00         7\n",
      "        rRNA       0.00      0.00      0.00         3\n",
      "      snoRNA       0.00      0.00      0.00       115\n",
      "\n",
      "    accuracy                           0.54       924\n",
      "   macro avg       0.20      0.24      0.21       924\n",
      "weighted avg       0.44      0.54      0.47       924\n",
      "\n"
     ]
    },
    {
     "name": "stderr",
     "output_type": "stream",
     "text": [
      "/Users/jfernand/opt/anaconda3/lib/python3.8/site-packages/sklearn/metrics/_classification.py:1245: UndefinedMetricWarning: Precision and F-score are ill-defined and being set to 0.0 in labels with no predicted samples. Use `zero_division` parameter to control this behavior.\n",
      "  _warn_prf(average, modifier, msg_start, len(result))\n",
      "/Users/jfernand/opt/anaconda3/lib/python3.8/site-packages/sklearn/metrics/_classification.py:1245: UndefinedMetricWarning: Precision and F-score are ill-defined and being set to 0.0 in labels with no predicted samples. Use `zero_division` parameter to control this behavior.\n",
      "  _warn_prf(average, modifier, msg_start, len(result))\n",
      "/Users/jfernand/opt/anaconda3/lib/python3.8/site-packages/sklearn/metrics/_classification.py:1245: UndefinedMetricWarning: Precision and F-score are ill-defined and being set to 0.0 in labels with no predicted samples. Use `zero_division` parameter to control this behavior.\n",
      "  _warn_prf(average, modifier, msg_start, len(result))\n"
     ]
    }
   ],
   "source": [
    "print(classification_report(y_test, grid_predictions))"
   ]
  },
  {
   "cell_type": "code",
   "execution_count": null,
   "id": "4cdcd404-960a-43e0-a95c-e3cec1768e50",
   "metadata": {},
   "outputs": [],
   "source": [
    "print(confusion_matrix())"
   ]
  }
 ],
 "metadata": {
  "kernelspec": {
   "display_name": "Python 3",
   "language": "python",
   "name": "python3"
  },
  "language_info": {
   "codemirror_mode": {
    "name": "ipython",
    "version": 3
   },
   "file_extension": ".py",
   "mimetype": "text/x-python",
   "name": "python",
   "nbconvert_exporter": "python",
   "pygments_lexer": "ipython3",
   "version": "3.8.8"
  }
 },
 "nbformat": 4,
 "nbformat_minor": 5
}
