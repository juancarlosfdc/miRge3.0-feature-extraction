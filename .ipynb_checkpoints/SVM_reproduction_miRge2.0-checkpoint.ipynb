{
 "cells": [
  {
   "cell_type": "code",
   "execution_count": 3,
   "metadata": {},
   "outputs": [],
   "source": [
    "from sklearn import svm\n",
    "from sklearn.model_selection import train_test_split\n",
    "from sklearn.model_selection import GridSearchCV\n",
    "from sklearn.metrics import classification_report, confusion_matrix\n",
    "from sklearn.preprocessing import StandardScaler\n",
    "import pandas as pd\n",
    "import numpy as np\n",
    "import re\n",
    "import matplotlib.pyplot as plt"
   ]
  },
  {
   "cell_type": "code",
   "execution_count": 102,
   "metadata": {},
   "outputs": [],
   "source": [
    "training_file_names = pd.read_csv('may_3_feature_files.txt', sep='\\n', header=None)[0].tolist()"
   ]
  },
  {
   "cell_type": "code",
   "execution_count": 104,
   "metadata": {},
   "outputs": [
    {
     "data": {
      "text/plain": [
       "169"
      ]
     },
     "execution_count": 104,
     "metadata": {},
     "output_type": "execute_result"
    }
   ],
   "source": [
    "len(training_file_names)"
   ]
  },
  {
   "cell_type": "code",
   "execution_count": 105,
   "metadata": {},
   "outputs": [],
   "source": [
    "def extract_rna_type(name):\n",
    "    return re.sub(\" \", \"_\", re.search(\"rna_type.*_dataset\", name).group(0)[9:-8])"
   ]
  },
  {
   "cell_type": "code",
   "execution_count": 108,
   "metadata": {},
   "outputs": [],
   "source": [
    "dfs = []\n",
    "for i, filename in enumerate(training_file_names):\n",
    "    rna_type = extract_rna_type(filename)\n",
    "    df = pd.read_csv(filename)\n",
    "    df['label'] = rna_type\n",
    "    dfs.append(df)\n",
    "final_df = pd.concat(dfs)"
   ]
  },
  {
   "cell_type": "code",
   "execution_count": 109,
   "metadata": {},
   "outputs": [],
   "source": [
    "def filter_cluster_df(df, seqCount_filter=True, classes = ['hairpin_miRNA', 'isomiR_miRNA', 'mRNA', 'mature_tRNA', 'primary_tRNA', 'rRNA', 'snoRNA']):\n",
    "    if seqCount_filter:\n",
    "        df1 = df[np.logical_and(df['seqCount'] > 2, df['readCountSum'] > 9)]\n",
    "    df2 = df[df['label'].isin(classes)]\n",
    "    return df2"
   ]
  },
  {
   "cell_type": "code",
   "execution_count": 110,
   "metadata": {},
   "outputs": [],
   "source": [
    "def add_miRNA_yes_no(row):\n",
    "    if 'miRNA' in row['label']:\n",
    "        row['miRNA'] = True\n",
    "    else:\n",
    "        row['miRNA'] = False\n",
    "    return row"
   ]
  },
  {
   "cell_type": "code",
   "execution_count": 115,
   "metadata": {},
   "outputs": [],
   "source": [
    "filtered_df = filter_cluster_df(final_df, seqCount_filter=True).apply(add_miRNA_yes_no, axis=1)"
   ]
  },
  {
   "cell_type": "code",
   "execution_count": 116,
   "metadata": {},
   "outputs": [
    {
     "data": {
      "text/html": [
       "<div>\n",
       "<style scoped>\n",
       "    .dataframe tbody tr th:only-of-type {\n",
       "        vertical-align: middle;\n",
       "    }\n",
       "\n",
       "    .dataframe tbody tr th {\n",
       "        vertical-align: top;\n",
       "    }\n",
       "\n",
       "    .dataframe thead th {\n",
       "        text-align: right;\n",
       "    }\n",
       "</style>\n",
       "<table border=\"1\" class=\"dataframe\">\n",
       "  <thead>\n",
       "    <tr style=\"text-align: right;\">\n",
       "      <th></th>\n",
       "      <th>realMicRNA</th>\n",
       "      <th>realMicRNAName</th>\n",
       "      <th>clusterName</th>\n",
       "      <th>seqCount</th>\n",
       "      <th>readCountSum</th>\n",
       "      <th>exactMatchRatio</th>\n",
       "      <th>headUnstableLength</th>\n",
       "      <th>tailUnstableLength</th>\n",
       "      <th>head_minus3_templateNucleotide</th>\n",
       "      <th>head_minus3_TemplateNucleotide_percentage</th>\n",
       "      <th>...</th>\n",
       "      <th>binding_count</th>\n",
       "      <th>interiorLoopCount</th>\n",
       "      <th>apicalLoop_size</th>\n",
       "      <th>stem_length</th>\n",
       "      <th>mFE</th>\n",
       "      <th>count_bindings_in_miRNA</th>\n",
       "      <th>UGU_UGUG_motif</th>\n",
       "      <th>pair_state</th>\n",
       "      <th>label</th>\n",
       "      <th>miRNA</th>\n",
       "    </tr>\n",
       "  </thead>\n",
       "  <tbody>\n",
       "    <tr>\n",
       "      <th>0</th>\n",
       "      <td>Null</td>\n",
       "      <td>Null</td>\n",
       "      <td>ERR038413:miRCluster_13_16:chr1:10978127_10978...</td>\n",
       "      <td>5</td>\n",
       "      <td>13</td>\n",
       "      <td>0.230769</td>\n",
       "      <td>0</td>\n",
       "      <td>4</td>\n",
       "      <td>G</td>\n",
       "      <td>0.0</td>\n",
       "      <td>...</td>\n",
       "      <td>12</td>\n",
       "      <td>2</td>\n",
       "      <td>3</td>\n",
       "      <td>12</td>\n",
       "      <td>-14.2</td>\n",
       "      <td>10</td>\n",
       "      <td>No</td>\n",
       "      <td>No</td>\n",
       "      <td>isomiR_miRNA</td>\n",
       "      <td>True</td>\n",
       "    </tr>\n",
       "    <tr>\n",
       "      <th>1</th>\n",
       "      <td>Null</td>\n",
       "      <td>Null</td>\n",
       "      <td>ERR038413:miRCluster_1_18:chr1:19612962_19612979+</td>\n",
       "      <td>125</td>\n",
       "      <td>932</td>\n",
       "      <td>0.002146</td>\n",
       "      <td>0</td>\n",
       "      <td>3</td>\n",
       "      <td>T</td>\n",
       "      <td>0.0</td>\n",
       "      <td>...</td>\n",
       "      <td>8</td>\n",
       "      <td>1</td>\n",
       "      <td>20</td>\n",
       "      <td>8</td>\n",
       "      <td>-7.7</td>\n",
       "      <td>5</td>\n",
       "      <td>Yes</td>\n",
       "      <td>No</td>\n",
       "      <td>isomiR_miRNA</td>\n",
       "      <td>True</td>\n",
       "    </tr>\n",
       "    <tr>\n",
       "      <th>2</th>\n",
       "      <td>Null</td>\n",
       "      <td>Null</td>\n",
       "      <td>ERR038413:miRCluster_4_16:chr1:38063060_38063075+</td>\n",
       "      <td>30</td>\n",
       "      <td>159</td>\n",
       "      <td>0.031447</td>\n",
       "      <td>1</td>\n",
       "      <td>1</td>\n",
       "      <td>T</td>\n",
       "      <td>0.0</td>\n",
       "      <td>...</td>\n",
       "      <td>19</td>\n",
       "      <td>5</td>\n",
       "      <td>7</td>\n",
       "      <td>19</td>\n",
       "      <td>-20.7</td>\n",
       "      <td>5</td>\n",
       "      <td>No</td>\n",
       "      <td>No</td>\n",
       "      <td>isomiR_miRNA</td>\n",
       "      <td>True</td>\n",
       "    </tr>\n",
       "    <tr>\n",
       "      <th>3</th>\n",
       "      <td>Null</td>\n",
       "      <td>Null</td>\n",
       "      <td>ERR038413:miRCluster_6_19:chr1:71426873_71426891+</td>\n",
       "      <td>197</td>\n",
       "      <td>2889</td>\n",
       "      <td>0.263759</td>\n",
       "      <td>2</td>\n",
       "      <td>5</td>\n",
       "      <td>T</td>\n",
       "      <td>0.0</td>\n",
       "      <td>...</td>\n",
       "      <td>12</td>\n",
       "      <td>2</td>\n",
       "      <td>8</td>\n",
       "      <td>12</td>\n",
       "      <td>-8.8</td>\n",
       "      <td>6</td>\n",
       "      <td>Yes</td>\n",
       "      <td>No</td>\n",
       "      <td>isomiR_miRNA</td>\n",
       "      <td>True</td>\n",
       "    </tr>\n",
       "    <tr>\n",
       "      <th>4</th>\n",
       "      <td>Null</td>\n",
       "      <td>Null</td>\n",
       "      <td>ERR038413:miRCluster_7_16:chr1:74453510_74453525+</td>\n",
       "      <td>3</td>\n",
       "      <td>11</td>\n",
       "      <td>0.454545</td>\n",
       "      <td>0</td>\n",
       "      <td>1</td>\n",
       "      <td>A</td>\n",
       "      <td>0.0</td>\n",
       "      <td>...</td>\n",
       "      <td>26</td>\n",
       "      <td>4</td>\n",
       "      <td>6</td>\n",
       "      <td>26</td>\n",
       "      <td>-15.6</td>\n",
       "      <td>9</td>\n",
       "      <td>No</td>\n",
       "      <td>No</td>\n",
       "      <td>isomiR_miRNA</td>\n",
       "      <td>True</td>\n",
       "    </tr>\n",
       "    <tr>\n",
       "      <th>...</th>\n",
       "      <td>...</td>\n",
       "      <td>...</td>\n",
       "      <td>...</td>\n",
       "      <td>...</td>\n",
       "      <td>...</td>\n",
       "      <td>...</td>\n",
       "      <td>...</td>\n",
       "      <td>...</td>\n",
       "      <td>...</td>\n",
       "      <td>...</td>\n",
       "      <td>...</td>\n",
       "      <td>...</td>\n",
       "      <td>...</td>\n",
       "      <td>...</td>\n",
       "      <td>...</td>\n",
       "      <td>...</td>\n",
       "      <td>...</td>\n",
       "      <td>...</td>\n",
       "      <td>...</td>\n",
       "      <td>...</td>\n",
       "      <td>...</td>\n",
       "    </tr>\n",
       "    <tr>\n",
       "      <th>1</th>\n",
       "      <td>Null</td>\n",
       "      <td>Null</td>\n",
       "      <td>SRR944034:miRCluster_2_25:chr2:70249037_70249061-</td>\n",
       "      <td>4</td>\n",
       "      <td>51</td>\n",
       "      <td>0.745098</td>\n",
       "      <td>0</td>\n",
       "      <td>0</td>\n",
       "      <td>A</td>\n",
       "      <td>0.0</td>\n",
       "      <td>...</td>\n",
       "      <td>13</td>\n",
       "      <td>1</td>\n",
       "      <td>6</td>\n",
       "      <td>13</td>\n",
       "      <td>-9.6</td>\n",
       "      <td>18</td>\n",
       "      <td>No</td>\n",
       "      <td>No</td>\n",
       "      <td>mature_tRNA</td>\n",
       "      <td>False</td>\n",
       "    </tr>\n",
       "    <tr>\n",
       "      <th>0</th>\n",
       "      <td>Null</td>\n",
       "      <td>Null</td>\n",
       "      <td>SRR944034:miRCluster_4_24:chr21:8401693_8401716+</td>\n",
       "      <td>29</td>\n",
       "      <td>273</td>\n",
       "      <td>0.695971</td>\n",
       "      <td>1</td>\n",
       "      <td>5</td>\n",
       "      <td>G</td>\n",
       "      <td>0.0</td>\n",
       "      <td>...</td>\n",
       "      <td>37</td>\n",
       "      <td>8</td>\n",
       "      <td>7</td>\n",
       "      <td>37</td>\n",
       "      <td>-65.5</td>\n",
       "      <td>16</td>\n",
       "      <td>No</td>\n",
       "      <td>No</td>\n",
       "      <td>rRNA</td>\n",
       "      <td>False</td>\n",
       "    </tr>\n",
       "    <tr>\n",
       "      <th>1</th>\n",
       "      <td>Null</td>\n",
       "      <td>Null</td>\n",
       "      <td>SRR944034:miRCluster_7_24:chr22_KI270733v1_ran...</td>\n",
       "      <td>29</td>\n",
       "      <td>273</td>\n",
       "      <td>0.695971</td>\n",
       "      <td>1</td>\n",
       "      <td>5</td>\n",
       "      <td>G</td>\n",
       "      <td>0.0</td>\n",
       "      <td>...</td>\n",
       "      <td>37</td>\n",
       "      <td>8</td>\n",
       "      <td>7</td>\n",
       "      <td>37</td>\n",
       "      <td>-65.5</td>\n",
       "      <td>16</td>\n",
       "      <td>No</td>\n",
       "      <td>No</td>\n",
       "      <td>rRNA</td>\n",
       "      <td>False</td>\n",
       "    </tr>\n",
       "    <tr>\n",
       "      <th>2</th>\n",
       "      <td>Null</td>\n",
       "      <td>Null</td>\n",
       "      <td>SRR944034:miRCluster_10_24:chrUn_GL000220v1:11...</td>\n",
       "      <td>29</td>\n",
       "      <td>273</td>\n",
       "      <td>0.695971</td>\n",
       "      <td>1</td>\n",
       "      <td>5</td>\n",
       "      <td>G</td>\n",
       "      <td>0.0</td>\n",
       "      <td>...</td>\n",
       "      <td>37</td>\n",
       "      <td>8</td>\n",
       "      <td>7</td>\n",
       "      <td>37</td>\n",
       "      <td>-65.5</td>\n",
       "      <td>16</td>\n",
       "      <td>No</td>\n",
       "      <td>No</td>\n",
       "      <td>rRNA</td>\n",
       "      <td>False</td>\n",
       "    </tr>\n",
       "    <tr>\n",
       "      <th>0</th>\n",
       "      <td>Null</td>\n",
       "      <td>Null</td>\n",
       "      <td>SRR944034:miRCluster_3_26:chr22:39319088_39319...</td>\n",
       "      <td>14</td>\n",
       "      <td>109</td>\n",
       "      <td>0.596330</td>\n",
       "      <td>1</td>\n",
       "      <td>1</td>\n",
       "      <td>A</td>\n",
       "      <td>0.0</td>\n",
       "      <td>...</td>\n",
       "      <td>33</td>\n",
       "      <td>6</td>\n",
       "      <td>3</td>\n",
       "      <td>33</td>\n",
       "      <td>-32.5</td>\n",
       "      <td>16</td>\n",
       "      <td>No</td>\n",
       "      <td>No</td>\n",
       "      <td>snoRNA</td>\n",
       "      <td>False</td>\n",
       "    </tr>\n",
       "  </tbody>\n",
       "</table>\n",
       "<p>9674 rows × 76 columns</p>\n",
       "</div>"
      ],
      "text/plain": [
       "   realMicRNA realMicRNAName  \\\n",
       "0        Null           Null   \n",
       "1        Null           Null   \n",
       "2        Null           Null   \n",
       "3        Null           Null   \n",
       "4        Null           Null   \n",
       "..        ...            ...   \n",
       "1        Null           Null   \n",
       "0        Null           Null   \n",
       "1        Null           Null   \n",
       "2        Null           Null   \n",
       "0        Null           Null   \n",
       "\n",
       "                                          clusterName  seqCount  readCountSum  \\\n",
       "0   ERR038413:miRCluster_13_16:chr1:10978127_10978...         5            13   \n",
       "1   ERR038413:miRCluster_1_18:chr1:19612962_19612979+       125           932   \n",
       "2   ERR038413:miRCluster_4_16:chr1:38063060_38063075+        30           159   \n",
       "3   ERR038413:miRCluster_6_19:chr1:71426873_71426891+       197          2889   \n",
       "4   ERR038413:miRCluster_7_16:chr1:74453510_74453525+         3            11   \n",
       "..                                                ...       ...           ...   \n",
       "1   SRR944034:miRCluster_2_25:chr2:70249037_70249061-         4            51   \n",
       "0    SRR944034:miRCluster_4_24:chr21:8401693_8401716+        29           273   \n",
       "1   SRR944034:miRCluster_7_24:chr22_KI270733v1_ran...        29           273   \n",
       "2   SRR944034:miRCluster_10_24:chrUn_GL000220v1:11...        29           273   \n",
       "0   SRR944034:miRCluster_3_26:chr22:39319088_39319...        14           109   \n",
       "\n",
       "    exactMatchRatio  headUnstableLength  tailUnstableLength  \\\n",
       "0          0.230769                   0                   4   \n",
       "1          0.002146                   0                   3   \n",
       "2          0.031447                   1                   1   \n",
       "3          0.263759                   2                   5   \n",
       "4          0.454545                   0                   1   \n",
       "..              ...                 ...                 ...   \n",
       "1          0.745098                   0                   0   \n",
       "0          0.695971                   1                   5   \n",
       "1          0.695971                   1                   5   \n",
       "2          0.695971                   1                   5   \n",
       "0          0.596330                   1                   1   \n",
       "\n",
       "   head_minus3_templateNucleotide  head_minus3_TemplateNucleotide_percentage  \\\n",
       "0                               G                                        0.0   \n",
       "1                               T                                        0.0   \n",
       "2                               T                                        0.0   \n",
       "3                               T                                        0.0   \n",
       "4                               A                                        0.0   \n",
       "..                            ...                                        ...   \n",
       "1                               A                                        0.0   \n",
       "0                               G                                        0.0   \n",
       "1                               G                                        0.0   \n",
       "2                               G                                        0.0   \n",
       "0                               A                                        0.0   \n",
       "\n",
       "    ...  binding_count  interiorLoopCount  apicalLoop_size  stem_length   mFE  \\\n",
       "0   ...             12                  2                3           12 -14.2   \n",
       "1   ...              8                  1               20            8  -7.7   \n",
       "2   ...             19                  5                7           19 -20.7   \n",
       "3   ...             12                  2                8           12  -8.8   \n",
       "4   ...             26                  4                6           26 -15.6   \n",
       "..  ...            ...                ...              ...          ...   ...   \n",
       "1   ...             13                  1                6           13  -9.6   \n",
       "0   ...             37                  8                7           37 -65.5   \n",
       "1   ...             37                  8                7           37 -65.5   \n",
       "2   ...             37                  8                7           37 -65.5   \n",
       "0   ...             33                  6                3           33 -32.5   \n",
       "\n",
       "    count_bindings_in_miRNA  UGU_UGUG_motif  pair_state         label  miRNA  \n",
       "0                        10              No          No  isomiR_miRNA   True  \n",
       "1                         5             Yes          No  isomiR_miRNA   True  \n",
       "2                         5              No          No  isomiR_miRNA   True  \n",
       "3                         6             Yes          No  isomiR_miRNA   True  \n",
       "4                         9              No          No  isomiR_miRNA   True  \n",
       "..                      ...             ...         ...           ...    ...  \n",
       "1                        18              No          No   mature_tRNA  False  \n",
       "0                        16              No          No          rRNA  False  \n",
       "1                        16              No          No          rRNA  False  \n",
       "2                        16              No          No          rRNA  False  \n",
       "0                        16              No          No        snoRNA  False  \n",
       "\n",
       "[9674 rows x 76 columns]"
      ]
     },
     "execution_count": 116,
     "metadata": {},
     "output_type": "execute_result"
    }
   ],
   "source": [
    "filtered_df"
   ]
  },
  {
   "cell_type": "markdown",
   "metadata": {},
   "source": [
    "# Clean the data frame before training the SVM\n",
    "1. Remove two empty columns (realMicRNA and realMicRNAName) and the clusterName\n",
    "2. One hot encoding\n",
    "3. Standardize the remaining entries. \n",
    "\n",
    "We can find exactly what to do in their model_predict function. "
   ]
  },
  {
   "cell_type": "code",
   "execution_count": 117,
   "metadata": {},
   "outputs": [],
   "source": [
    "def subsample_for_balance(df, size_of_df=10**5):\n",
    "    positives = df[df['miRNA']]\n",
    "    negatives = df[~df['miRNA']]\n",
    "    if len(positives) <= len(negatives):\n",
    "        subsampled_negs = negatives.sample(min([len(positives), size_of_df/2]))\n",
    "        subsampled_pos = positives.sample(min([len(positives), size_of_df/2]))\n",
    "        return pd.concat([positives, subsampled_negs])\n",
    "    else:\n",
    "        subsampled_pos = positives.sample(len(negatives))\n",
    "        return pd.concat([subsampled_pos, negatives])\n",
    "    \n",
    "def standardize(df):\n",
    "    scaler = StandardScaler()\n",
    "    return scaler.fit_transform(df)"
   ]
  },
  {
   "cell_type": "code",
   "execution_count": 119,
   "metadata": {},
   "outputs": [],
   "source": [
    "balanced_df = subsample_for_balance(filtered_df)"
   ]
  },
  {
   "cell_type": "code",
   "execution_count": 120,
   "metadata": {},
   "outputs": [],
   "source": [
    "X = standardize(pd.get_dummies(balanced_df.iloc[:, 3:-2]))\n",
    "y = balanced_df['miRNA']"
   ]
  },
  {
   "cell_type": "code",
   "execution_count": 121,
   "metadata": {},
   "outputs": [],
   "source": [
    "X_train, X_test, y_train, y_test = train_test_split(\n",
    "                        X, y,\n",
    "                test_size = 0.20, random_state = 101)"
   ]
  },
  {
   "cell_type": "code",
   "execution_count": 122,
   "metadata": {},
   "outputs": [
    {
     "data": {
      "text/plain": [
       "(4051, 103)"
      ]
     },
     "execution_count": 122,
     "metadata": {},
     "output_type": "execute_result"
    }
   ],
   "source": [
    "X_train.shape"
   ]
  },
  {
   "cell_type": "code",
   "execution_count": 124,
   "metadata": {},
   "outputs": [
    {
     "data": {
      "text/plain": [
       "(1013, 103)"
      ]
     },
     "execution_count": 124,
     "metadata": {},
     "output_type": "execute_result"
    }
   ],
   "source": [
    "X_test.shape"
   ]
  },
  {
   "cell_type": "code",
   "execution_count": 126,
   "metadata": {},
   "outputs": [
    {
     "data": {
      "text/plain": [
       "SVC(C=1.0, break_ties=False, cache_size=200, class_weight=None, coef0=0.0,\n",
       "    decision_function_shape='ovr', degree=3, gamma='scale', kernel='rbf',\n",
       "    max_iter=-1, probability=False, random_state=None, shrinking=True,\n",
       "    tol=0.001, verbose=False)"
      ]
     },
     "execution_count": 126,
     "metadata": {},
     "output_type": "execute_result"
    }
   ],
   "source": [
    "model = svm.SVC()\n",
    "model.fit(X_train, y_train)"
   ]
  },
  {
   "cell_type": "code",
   "execution_count": 127,
   "metadata": {},
   "outputs": [
    {
     "name": "stdout",
     "output_type": "stream",
     "text": [
      "Fitting 5 folds for each of 64 candidates, totalling 320 fits\n"
     ]
    },
    {
     "name": "stderr",
     "output_type": "stream",
     "text": [
      "[Parallel(n_jobs=-1)]: Using backend LokyBackend with 16 concurrent workers.\n",
      "[Parallel(n_jobs=-1)]: Done  96 tasks      | elapsed:   23.3s\n",
      "[Parallel(n_jobs=-1)]: Done 256 tasks      | elapsed:   57.3s\n",
      "[Parallel(n_jobs=-1)]: Done 320 out of 320 | elapsed:  1.2min finished\n"
     ]
    },
    {
     "data": {
      "text/plain": [
       "GridSearchCV(cv=None, error_score=nan,\n",
       "             estimator=SVC(C=1.0, break_ties=False, cache_size=200,\n",
       "                           class_weight=None, coef0=0.0,\n",
       "                           decision_function_shape='ovr', degree=3,\n",
       "                           gamma='scale', kernel='rbf', max_iter=-1,\n",
       "                           probability=False, random_state=None, shrinking=True,\n",
       "                           tol=0.001, verbose=False),\n",
       "             iid='deprecated', n_jobs=-1,\n",
       "             param_grid={'C': array([1.e-04, 1.e-03, 1.e-02, 1.e-01, 1.e+00, 1.e+01, 1.e+02, 1.e+03]),\n",
       "                         'gamma': array([1.e-04, 1.e-03, 1.e-02, 1.e-01, 1.e+00, 1.e+01, 1.e+02, 1.e+03]),\n",
       "                         'kernel': ['rbf']},\n",
       "             pre_dispatch='2*n_jobs', refit=True, return_train_score=False,\n",
       "             scoring=None, verbose=3)"
      ]
     },
     "execution_count": 127,
     "metadata": {},
     "output_type": "execute_result"
    }
   ],
   "source": [
    "# defining parameter range\n",
    "param_range = 10**np.arange(-4, 4, dtype=float)\n",
    "param_grid = {'C': param_range,\n",
    "              'gamma': param_range,\n",
    "              'kernel': ['rbf']}\n",
    "\n",
    "grid = GridSearchCV(svm.SVC(), param_grid, refit = True, verbose = 3, n_jobs=-1)\n",
    " \n",
    "# fitting the model for grid search\n",
    "grid.fit(X_train, y_train)"
   ]
  },
  {
   "cell_type": "code",
   "execution_count": 128,
   "metadata": {},
   "outputs": [
    {
     "name": "stdout",
     "output_type": "stream",
     "text": [
      "{'C': 100.0, 'gamma': 0.001, 'kernel': 'rbf'}\n",
      "SVC(C=100.0, break_ties=False, cache_size=200, class_weight=None, coef0=0.0,\n",
      "    decision_function_shape='ovr', degree=3, gamma=0.001, kernel='rbf',\n",
      "    max_iter=-1, probability=False, random_state=None, shrinking=True,\n",
      "    tol=0.001, verbose=False)\n"
     ]
    }
   ],
   "source": [
    "# print best parameter after tuning\n",
    "print(grid.best_params_)\n",
    " \n",
    "# print how our model looks after hyper-parameter tuning\n",
    "print(grid.best_estimator_)"
   ]
  },
  {
   "cell_type": "markdown",
   "metadata": {},
   "source": [
    "Note that if the best parameter values are on the edge of the grid, we should probably refit!"
   ]
  },
  {
   "cell_type": "code",
   "execution_count": 129,
   "metadata": {},
   "outputs": [],
   "source": [
    "grid_predictions = grid.predict(X_test)"
   ]
  },
  {
   "cell_type": "code",
   "execution_count": 130,
   "metadata": {},
   "outputs": [
    {
     "name": "stdout",
     "output_type": "stream",
     "text": [
      "              precision    recall  f1-score   support\n",
      "\n",
      "       False       0.91      0.83      0.86       506\n",
      "        True       0.84      0.92      0.88       507\n",
      "\n",
      "    accuracy                           0.87      1013\n",
      "   macro avg       0.87      0.87      0.87      1013\n",
      "weighted avg       0.87      0.87      0.87      1013\n",
      "\n"
     ]
    }
   ],
   "source": [
    "print(classification_report(y_test, grid_predictions))"
   ]
  },
  {
   "cell_type": "code",
   "execution_count": 134,
   "metadata": {},
   "outputs": [
    {
     "data": {
      "text/plain": [
       "array([[-0.17278178, -0.04677354,  1.17155227, ..., -0.28589385,\n",
       "        -2.35906404,  2.35906404],\n",
       "       [-0.15074683, -0.04700594,  0.38756093, ..., -0.28589385,\n",
       "         0.42389693, -0.42389693],\n",
       "       [ 0.06960261, -0.04204937,  0.84735826, ..., -0.28589385,\n",
       "         0.42389693, -0.42389693],\n",
       "       ...,\n",
       "       [-0.25357657, -0.04730006, -0.52395894, ..., -0.28589385,\n",
       "         0.42389693, -0.42389693],\n",
       "       [ 0.00349778, -0.04536827, -0.99176238, ..., -0.28589385,\n",
       "         0.42389693, -0.42389693],\n",
       "       [ 2.39061674, -0.00614782,  0.27111507, ..., -0.28589385,\n",
       "        -2.35906404,  2.35906404]])"
      ]
     },
     "execution_count": 134,
     "metadata": {},
     "output_type": "execute_result"
    }
   ],
   "source": [
    "X_train"
   ]
  },
  {
   "cell_type": "code",
   "execution_count": 136,
   "metadata": {},
   "outputs": [
    {
     "data": {
      "text/plain": [
       "array([13332, 13332], dtype=int32)"
      ]
     },
     "execution_count": 136,
     "metadata": {},
     "output_type": "execute_result"
    }
   ],
   "source": [
    "grid.best_estimator_.n_support_"
   ]
  },
  {
   "cell_type": "markdown",
   "metadata": {},
   "source": [
    "# Diagnostics\n",
    "The SVM predicted all False. Is this because you didn't standardize your y variable? I don't think so... "
   ]
  },
  {
   "cell_type": "code",
   "execution_count": 154,
   "metadata": {},
   "outputs": [
    {
     "data": {
      "text/plain": [
       "(-1, 1)"
      ]
     },
     "execution_count": 154,
     "metadata": {},
     "output_type": "execute_result"
    },
    {
     "data": {
      "image/png": "[encoded data removed]",
      "text/plain": [
       "<Figure size 432x288 with 1 Axes>"
      ]
     },
     "metadata": {
      "needs_background": "light"
     },
     "output_type": "display_data"
    }
   ],
   "source": [
    "plt.hist(X[:, 0], bins=\"auto\");\n",
    "plt.xlim(-1, 1)"
   ]
  },
  {
   "cell_type": "markdown",
   "metadata": {},
   "source": [
    "This is not a normal distribution... What is the mean and standard deviation? "
   ]
  },
  {
   "cell_type": "code",
   "execution_count": 173,
   "metadata": {},
   "outputs": [
    {
     "data": {
      "text/plain": [
       "(33338, 103)"
      ]
     },
     "execution_count": 173,
     "metadata": {},
     "output_type": "execute_result"
    }
   ],
   "source": [
    "X.shape"
   ]
  },
  {
   "cell_type": "code",
   "execution_count": 176,
   "metadata": {},
   "outputs": [
    {
     "name": "stdout",
     "output_type": "stream",
     "text": [
      "mean [-2.95722013e-18 -3.09042824e-18  1.04914710e-16 -1.30011119e-17\n",
      " -6.34603454e-17  1.09124087e-16  2.95189180e-17  3.02648835e-17\n",
      "  2.05673328e-17 -2.88262358e-17 -3.31421787e-17  8.05642672e-17\n",
      "  3.09042824e-18  7.35308788e-17 -2.45102929e-18 -1.50258752e-17\n",
      " -2.11534485e-17  5.43489104e-17 -5.02461005e-17  3.22896468e-17\n",
      "  1.69547287e-16 -2.87729526e-18  3.28224792e-17  6.87353867e-18\n",
      " -5.71196392e-17 -8.26955971e-17 -9.91601199e-17  4.69958226e-17\n",
      " -1.84360030e-17  1.68002073e-16 -7.88592034e-18  1.05927092e-16\n",
      " -3.76712546e-17 -1.36405109e-17  4.39053943e-17  5.96772350e-18\n",
      "  6.51121260e-17  4.49977008e-17  3.41012771e-18  7.87526369e-17\n",
      "  1.85958527e-17 -7.41702778e-17 -3.90033357e-17 -8.63188578e-18\n",
      " -2.19526972e-17 -6.50055595e-18  4.73155220e-17 -8.52531928e-18\n",
      " -3.94296017e-17  4.75286550e-17  1.17223140e-17 -3.01796303e-16\n",
      " -4.49710592e-17  8.75976556e-17  6.24479638e-17 -8.18430651e-17\n",
      "  1.08697821e-17 -2.00611419e-17 -2.91992185e-17  3.20232306e-17\n",
      "  8.04577007e-18  4.72089555e-17 -1.40667768e-17 -6.18085648e-17\n",
      " -1.80097370e-17 -5.32832455e-17 -1.04435161e-17  1.27879789e-18\n",
      " -1.15091810e-17  1.60648985e-17 -3.47673177e-18  8.02978510e-17\n",
      " -7.39571448e-17 -5.54145753e-18  8.16299321e-17 -1.50791585e-17\n",
      "  2.15264312e-17  4.11346655e-17  1.02730097e-16 -7.61950411e-17\n",
      " -3.18100976e-17 -1.37257640e-16 -2.70678887e-17 -3.82573703e-17\n",
      " -6.60712245e-18 -7.08667166e-17 -6.82025543e-18  8.15233657e-17\n",
      " -9.18603153e-17  1.15677926e-16 -1.07312456e-16  1.97361141e-16\n",
      " -4.26265964e-19  7.74205558e-17 -3.45275431e-17  7.60884746e-17\n",
      " -7.58220584e-17  3.62326070e-18  2.36577610e-17 -1.81376168e-16\n",
      "  4.23068969e-17  1.07738722e-16  1.73703380e-17]\n",
      "standard_deviation [1. 1. 1. 1. 1. 1. 1. 1. 1. 1. 1. 1. 1. 1. 1. 1. 1. 1. 1. 1. 1. 1. 1. 1.\n",
      " 1. 1. 1. 1. 1. 1. 1. 1. 1. 1. 1. 1. 1. 1. 1. 1. 1. 1. 1. 1. 1. 1. 1. 1.\n",
      " 1. 1. 1. 1. 1. 1. 1. 1. 1. 1. 1. 1. 1. 1. 1. 1. 1. 1. 1. 1. 1. 1. 1. 1.\n",
      " 1. 1. 1. 1. 1. 1. 1. 1. 1. 1. 1. 1. 1. 1. 1. 1. 1. 1. 1. 1. 1. 1. 1. 1.\n",
      " 1. 1. 1. 1. 1. 1. 1.]\n"
     ]
    }
   ],
   "source": [
    "print('mean', np.mean(X, axis=0));\n",
    "print('standard_deviation', np.std(X, axis=0));"
   ]
  },
  {
   "cell_type": "code",
   "execution_count": 177,
   "metadata": {},
   "outputs": [
    {
     "data": {
      "image/png": "[encoded data removed]",
      "text/plain": [
       "<Figure size 432x288 with 1 Axes>"
      ]
     },
     "metadata": {
      "needs_background": "light"
     },
     "output_type": "display_data"
    }
   ],
   "source": [
    "plt.hist(balanced_df[balanced_df['miRNA']]['seqCount'], bins='auto');\n",
    "plt.xlim(-1, 1);\n",
    "plt.ylim(0, 10);"
   ]
  },
  {
   "cell_type": "markdown",
   "metadata": {},
   "source": [
    "???"
   ]
  },
  {
   "cell_type": "markdown",
   "metadata": {},
   "source": [
    "# Another fit\n",
    "In order to try to catch the edge of parameter space"
   ]
  },
  {
   "cell_type": "code",
   "execution_count": 179,
   "metadata": {},
   "outputs": [],
   "source": [
    "param_range = 10**np.arange(-8, 0, dtype=float)"
   ]
  },
  {
   "cell_type": "code",
   "execution_count": 180,
   "metadata": {},
   "outputs": [
    {
     "data": {
      "text/plain": [
       "array([1.e-08, 1.e-07, 1.e-06, 1.e-05, 1.e-04, 1.e-03, 1.e-02, 1.e-01])"
      ]
     },
     "execution_count": 180,
     "metadata": {},
     "output_type": "execute_result"
    }
   ],
   "source": [
    "param_range"
   ]
  },
  {
   "cell_type": "code",
   "execution_count": null,
   "metadata": {},
   "outputs": [
    {
     "name": "stdout",
     "output_type": "stream",
     "text": [
      "Fitting 5 folds for each of 64 candidates, totalling 320 fits\n"
     ]
    },
    {
     "name": "stderr",
     "output_type": "stream",
     "text": [
      "[Parallel(n_jobs=-1)]: Using backend LokyBackend with 16 concurrent workers.\n"
     ]
    }
   ],
   "source": [
    "# defining parameter range\n",
    "param_range = 10**np.arange(-8, 0, dtype=float)\n",
    "param_grid = {'C': param_range,\n",
    "              'gamma': param_range,\n",
    "              'kernel': ['rbf']}\n",
    "\n",
    "grid_80 = GridSearchCV(svm.SVC(), param_grid, refit = True, verbose = 3, n_jobs=-1)\n",
    " \n",
    "# fitting the model for grid search\n",
    "grid_80.fit(X_train, y_train)"
   ]
  },
  {
   "cell_type": "code",
   "execution_count": null,
   "metadata": {},
   "outputs": [],
   "source": []
  },
  {
   "cell_type": "markdown",
   "metadata": {},
   "source": [
    "# The exact same number of clusters was found for each type in each sample? \n",
    "I am very suspicious... "
   ]
  },
  {
   "cell_type": "code",
   "execution_count": 71,
   "metadata": {},
   "outputs": [
    {
     "ename": "FileNotFoundError",
     "evalue": "[Errno 2] File /home/jfernand/mirge/miRge3.0-feature-extraction/output_dir/miRge.2022-05-01_00-38-13/mapped.csv does not exist: '/home/jfernand/mirge/miRge3.0-feature-extraction/output_dir/miRge.2022-05-01_00-38-13/mapped.csv'",
     "output_type": "error",
     "traceback": [
      "\u001b[0;31m---------------------------------------------------------------------------\u001b[0m",
      "\u001b[0;31mFileNotFoundError\u001b[0m                         Traceback (most recent call last)",
      "\u001b[0;32m<ipython-input-71-aa915da6b103>\u001b[0m in \u001b[0;36m<module>\u001b[0;34m\u001b[0m\n\u001b[0;32m----> 1\u001b[0;31m \u001b[0mexample_mapped\u001b[0m \u001b[0;34m=\u001b[0m \u001b[0mpd\u001b[0m\u001b[0;34m.\u001b[0m\u001b[0mread_csv\u001b[0m\u001b[0;34m(\u001b[0m\u001b[0;34m\"/home/jfernand/mirge/miRge3.0-feature-extraction/output_dir/miRge.2022-05-01_00-38-13/mapped.csv\"\u001b[0m\u001b[0;34m)\u001b[0m\u001b[0;34m\u001b[0m\u001b[0;34m\u001b[0m\u001b[0m\n\u001b[0m\u001b[1;32m      2\u001b[0m \u001b[0;34m\u001b[0m\u001b[0m\n\u001b[1;32m      3\u001b[0m \u001b[0;32mfor\u001b[0m \u001b[0mcol\u001b[0m \u001b[0;32min\u001b[0m \u001b[0mexample_mapped\u001b[0m\u001b[0;34m.\u001b[0m\u001b[0mcolumns\u001b[0m\u001b[0;34m[\u001b[0m\u001b[0;36m2\u001b[0m\u001b[0;34m:\u001b[0m\u001b[0;34m-\u001b[0m\u001b[0;36m1\u001b[0m\u001b[0;34m]\u001b[0m\u001b[0;34m:\u001b[0m\u001b[0;34m\u001b[0m\u001b[0;34m\u001b[0m\u001b[0m\n\u001b[1;32m      4\u001b[0m     \u001b[0mprint\u001b[0m\u001b[0;34m(\u001b[0m\u001b[0mcol\u001b[0m\u001b[0;34m)\u001b[0m\u001b[0;34m\u001b[0m\u001b[0;34m\u001b[0m\u001b[0m\n\u001b[1;32m      5\u001b[0m     \u001b[0mprint\u001b[0m\u001b[0;34m(\u001b[0m\u001b[0mlen\u001b[0m\u001b[0;34m(\u001b[0m\u001b[0mexample_mapped\u001b[0m\u001b[0;34m[\u001b[0m\u001b[0;34m~\u001b[0m\u001b[0mexample_mapped\u001b[0m\u001b[0;34m[\u001b[0m\u001b[0mcol\u001b[0m\u001b[0;34m]\u001b[0m\u001b[0;34m.\u001b[0m\u001b[0misna\u001b[0m\u001b[0;34m(\u001b[0m\u001b[0;34m)\u001b[0m\u001b[0;34m]\u001b[0m\u001b[0;34m)\u001b[0m\u001b[0;34m)\u001b[0m\u001b[0;34m\u001b[0m\u001b[0;34m\u001b[0m\u001b[0m\n",
      "\u001b[0;32m~/anaconda3/lib/python3.7/site-packages/pandas/io/parsers.py\u001b[0m in \u001b[0;36mparser_f\u001b[0;34m(filepath_or_buffer, sep, delimiter, header, names, index_col, usecols, squeeze, prefix, mangle_dupe_cols, dtype, engine, converters, true_values, false_values, skipinitialspace, skiprows, skipfooter, nrows, na_values, keep_default_na, na_filter, verbose, skip_blank_lines, parse_dates, infer_datetime_format, keep_date_col, date_parser, dayfirst, cache_dates, iterator, chunksize, compression, thousands, decimal, lineterminator, quotechar, quoting, doublequote, escapechar, comment, encoding, dialect, error_bad_lines, warn_bad_lines, delim_whitespace, low_memory, memory_map, float_precision)\u001b[0m\n\u001b[1;32m    674\u001b[0m         )\n\u001b[1;32m    675\u001b[0m \u001b[0;34m\u001b[0m\u001b[0m\n\u001b[0;32m--> 676\u001b[0;31m         \u001b[0;32mreturn\u001b[0m \u001b[0m_read\u001b[0m\u001b[0;34m(\u001b[0m\u001b[0mfilepath_or_buffer\u001b[0m\u001b[0;34m,\u001b[0m \u001b[0mkwds\u001b[0m\u001b[0;34m)\u001b[0m\u001b[0;34m\u001b[0m\u001b[0;34m\u001b[0m\u001b[0m\n\u001b[0m\u001b[1;32m    677\u001b[0m \u001b[0;34m\u001b[0m\u001b[0m\n\u001b[1;32m    678\u001b[0m     \u001b[0mparser_f\u001b[0m\u001b[0;34m.\u001b[0m\u001b[0m__name__\u001b[0m \u001b[0;34m=\u001b[0m \u001b[0mname\u001b[0m\u001b[0;34m\u001b[0m\u001b[0;34m\u001b[0m\u001b[0m\n",
      "\u001b[0;32m~/anaconda3/lib/python3.7/site-packages/pandas/io/parsers.py\u001b[0m in \u001b[0;36m_read\u001b[0;34m(filepath_or_buffer, kwds)\u001b[0m\n\u001b[1;32m    446\u001b[0m \u001b[0;34m\u001b[0m\u001b[0m\n\u001b[1;32m    447\u001b[0m     \u001b[0;31m# Create the parser.\u001b[0m\u001b[0;34m\u001b[0m\u001b[0;34m\u001b[0m\u001b[0;34m\u001b[0m\u001b[0m\n\u001b[0;32m--> 448\u001b[0;31m     \u001b[0mparser\u001b[0m \u001b[0;34m=\u001b[0m \u001b[0mTextFileReader\u001b[0m\u001b[0;34m(\u001b[0m\u001b[0mfp_or_buf\u001b[0m\u001b[0;34m,\u001b[0m \u001b[0;34m**\u001b[0m\u001b[0mkwds\u001b[0m\u001b[0;34m)\u001b[0m\u001b[0;34m\u001b[0m\u001b[0;34m\u001b[0m\u001b[0m\n\u001b[0m\u001b[1;32m    449\u001b[0m \u001b[0;34m\u001b[0m\u001b[0m\n\u001b[1;32m    450\u001b[0m     \u001b[0;32mif\u001b[0m \u001b[0mchunksize\u001b[0m \u001b[0;32mor\u001b[0m \u001b[0miterator\u001b[0m\u001b[0;34m:\u001b[0m\u001b[0;34m\u001b[0m\u001b[0;34m\u001b[0m\u001b[0m\n",
      "\u001b[0;32m~/anaconda3/lib/python3.7/site-packages/pandas/io/parsers.py\u001b[0m in \u001b[0;36m__init__\u001b[0;34m(self, f, engine, **kwds)\u001b[0m\n\u001b[1;32m    878\u001b[0m             \u001b[0mself\u001b[0m\u001b[0;34m.\u001b[0m\u001b[0moptions\u001b[0m\u001b[0;34m[\u001b[0m\u001b[0;34m\"has_index_names\"\u001b[0m\u001b[0;34m]\u001b[0m \u001b[0;34m=\u001b[0m \u001b[0mkwds\u001b[0m\u001b[0;34m[\u001b[0m\u001b[0;34m\"has_index_names\"\u001b[0m\u001b[0;34m]\u001b[0m\u001b[0;34m\u001b[0m\u001b[0;34m\u001b[0m\u001b[0m\n\u001b[1;32m    879\u001b[0m \u001b[0;34m\u001b[0m\u001b[0m\n\u001b[0;32m--> 880\u001b[0;31m         \u001b[0mself\u001b[0m\u001b[0;34m.\u001b[0m\u001b[0m_make_engine\u001b[0m\u001b[0;34m(\u001b[0m\u001b[0mself\u001b[0m\u001b[0;34m.\u001b[0m\u001b[0mengine\u001b[0m\u001b[0;34m)\u001b[0m\u001b[0;34m\u001b[0m\u001b[0;34m\u001b[0m\u001b[0m\n\u001b[0m\u001b[1;32m    881\u001b[0m \u001b[0;34m\u001b[0m\u001b[0m\n\u001b[1;32m    882\u001b[0m     \u001b[0;32mdef\u001b[0m \u001b[0mclose\u001b[0m\u001b[0;34m(\u001b[0m\u001b[0mself\u001b[0m\u001b[0;34m)\u001b[0m\u001b[0;34m:\u001b[0m\u001b[0;34m\u001b[0m\u001b[0;34m\u001b[0m\u001b[0m\n",
      "\u001b[0;32m~/anaconda3/lib/python3.7/site-packages/pandas/io/parsers.py\u001b[0m in \u001b[0;36m_make_engine\u001b[0;34m(self, engine)\u001b[0m\n\u001b[1;32m   1112\u001b[0m     \u001b[0;32mdef\u001b[0m \u001b[0m_make_engine\u001b[0m\u001b[0;34m(\u001b[0m\u001b[0mself\u001b[0m\u001b[0;34m,\u001b[0m \u001b[0mengine\u001b[0m\u001b[0;34m=\u001b[0m\u001b[0;34m\"c\"\u001b[0m\u001b[0;34m)\u001b[0m\u001b[0;34m:\u001b[0m\u001b[0;34m\u001b[0m\u001b[0;34m\u001b[0m\u001b[0m\n\u001b[1;32m   1113\u001b[0m         \u001b[0;32mif\u001b[0m \u001b[0mengine\u001b[0m \u001b[0;34m==\u001b[0m \u001b[0;34m\"c\"\u001b[0m\u001b[0;34m:\u001b[0m\u001b[0;34m\u001b[0m\u001b[0;34m\u001b[0m\u001b[0m\n\u001b[0;32m-> 1114\u001b[0;31m             \u001b[0mself\u001b[0m\u001b[0;34m.\u001b[0m\u001b[0m_engine\u001b[0m \u001b[0;34m=\u001b[0m \u001b[0mCParserWrapper\u001b[0m\u001b[0;34m(\u001b[0m\u001b[0mself\u001b[0m\u001b[0;34m.\u001b[0m\u001b[0mf\u001b[0m\u001b[0;34m,\u001b[0m \u001b[0;34m**\u001b[0m\u001b[0mself\u001b[0m\u001b[0;34m.\u001b[0m\u001b[0moptions\u001b[0m\u001b[0;34m)\u001b[0m\u001b[0;34m\u001b[0m\u001b[0;34m\u001b[0m\u001b[0m\n\u001b[0m\u001b[1;32m   1115\u001b[0m         \u001b[0;32melse\u001b[0m\u001b[0;34m:\u001b[0m\u001b[0;34m\u001b[0m\u001b[0;34m\u001b[0m\u001b[0m\n\u001b[1;32m   1116\u001b[0m             \u001b[0;32mif\u001b[0m \u001b[0mengine\u001b[0m \u001b[0;34m==\u001b[0m \u001b[0;34m\"python\"\u001b[0m\u001b[0;34m:\u001b[0m\u001b[0;34m\u001b[0m\u001b[0;34m\u001b[0m\u001b[0m\n",
      "\u001b[0;32m~/anaconda3/lib/python3.7/site-packages/pandas/io/parsers.py\u001b[0m in \u001b[0;36m__init__\u001b[0;34m(self, src, **kwds)\u001b[0m\n\u001b[1;32m   1889\u001b[0m         \u001b[0mkwds\u001b[0m\u001b[0;34m[\u001b[0m\u001b[0;34m\"usecols\"\u001b[0m\u001b[0;34m]\u001b[0m \u001b[0;34m=\u001b[0m \u001b[0mself\u001b[0m\u001b[0;34m.\u001b[0m\u001b[0musecols\u001b[0m\u001b[0;34m\u001b[0m\u001b[0;34m\u001b[0m\u001b[0m\n\u001b[1;32m   1890\u001b[0m \u001b[0;34m\u001b[0m\u001b[0m\n\u001b[0;32m-> 1891\u001b[0;31m         \u001b[0mself\u001b[0m\u001b[0;34m.\u001b[0m\u001b[0m_reader\u001b[0m \u001b[0;34m=\u001b[0m \u001b[0mparsers\u001b[0m\u001b[0;34m.\u001b[0m\u001b[0mTextReader\u001b[0m\u001b[0;34m(\u001b[0m\u001b[0msrc\u001b[0m\u001b[0;34m,\u001b[0m \u001b[0;34m**\u001b[0m\u001b[0mkwds\u001b[0m\u001b[0;34m)\u001b[0m\u001b[0;34m\u001b[0m\u001b[0;34m\u001b[0m\u001b[0m\n\u001b[0m\u001b[1;32m   1892\u001b[0m         \u001b[0mself\u001b[0m\u001b[0;34m.\u001b[0m\u001b[0munnamed_cols\u001b[0m \u001b[0;34m=\u001b[0m \u001b[0mself\u001b[0m\u001b[0;34m.\u001b[0m\u001b[0m_reader\u001b[0m\u001b[0;34m.\u001b[0m\u001b[0munnamed_cols\u001b[0m\u001b[0;34m\u001b[0m\u001b[0;34m\u001b[0m\u001b[0m\n\u001b[1;32m   1893\u001b[0m \u001b[0;34m\u001b[0m\u001b[0m\n",
      "\u001b[0;32mpandas/_libs/parsers.pyx\u001b[0m in \u001b[0;36mpandas._libs.parsers.TextReader.__cinit__\u001b[0;34m()\u001b[0m\n",
      "\u001b[0;32mpandas/_libs/parsers.pyx\u001b[0m in \u001b[0;36mpandas._libs.parsers.TextReader._setup_parser_source\u001b[0;34m()\u001b[0m\n",
      "\u001b[0;31mFileNotFoundError\u001b[0m: [Errno 2] File /home/jfernand/mirge/miRge3.0-feature-extraction/output_dir/miRge.2022-05-01_00-38-13/mapped.csv does not exist: '/home/jfernand/mirge/miRge3.0-feature-extraction/output_dir/miRge.2022-05-01_00-38-13/mapped.csv'"
     ]
    }
   ],
   "source": [
    "example_mapped = pd.read_csv(\"/home/jfernand/mirge/miRge3.0-feature-extraction/output_dir/miRge.2022-05-01_00-38-13/mapped.csv\")\n",
    "\n",
    "for col in example_mapped.columns[2:-1]:\n",
    "    print(col)\n",
    "    print(len(example_mapped[~example_mapped[col].isna()]))"
   ]
  },
  {
   "cell_type": "code",
   "execution_count": 30,
   "metadata": {},
   "outputs": [],
   "source": [
    "example_mapped = pd.read_csv(\"/home/jfernand/mirge/miRge3.0-feature-extraction/output_dir/miRge.2022-05-01_00-38-13/mapped.csv\")"
   ]
  },
  {
   "cell_type": "code",
   "execution_count": 34,
   "metadata": {},
   "outputs": [
    {
     "name": "stdout",
     "output_type": "stream",
     "text": [
      "exact miRNA\n",
      "1125\n",
      "hairpin miRNA\n",
      "51\n",
      "mature tRNA\n",
      "597\n",
      "primary tRNA\n",
      "10\n",
      "snoRNA\n",
      "222\n",
      "rRNA\n",
      "8134\n",
      "ncrna others\n",
      "1054\n",
      "mRNA\n",
      "211\n",
      "isomiR miRNA\n",
      "14223\n"
     ]
    }
   ],
   "source": [
    "for col in example_mapped.columns[2:-1]:\n",
    "    print(col)\n",
    "    print(len(example_mapped[~example_mapped[col].isna()]))"
   ]
  },
  {
   "cell_type": "markdown",
   "metadata": {},
   "source": [
    "So mapped.csv looks fine"
   ]
  },
  {
   "cell_type": "code",
   "execution_count": 43,
   "metadata": {},
   "outputs": [
    {
     "data": {
      "text/plain": [
       "'isomiR miRNA'"
      ]
     },
     "execution_count": 43,
     "metadata": {},
     "output_type": "execute_result"
    }
   ],
   "source": [
    "col"
   ]
  },
  {
   "cell_type": "code",
   "execution_count": 45,
   "metadata": {},
   "outputs": [],
   "source": [
    "ismoiR = example_mapped[~example_mapped[col].isna()]"
   ]
  },
  {
   "cell_type": "code",
   "execution_count": 48,
   "metadata": {},
   "outputs": [
    {
     "name": "stdout",
     "output_type": "stream",
     "text": [
      "                      Sequence  annotFlag        exact miRNA hairpin miRNA  \\\n",
      "0       TTCAANAAATTCAGGATAGGTT          1                NaN           NaN   \n",
      "1      TAGCACCATCTGAAATCGGTTAT          1  Hsa-Mir-29-P1a_3p           NaN   \n",
      "2    TGAGGTAGTAGGTTGTATAGTTTCT          1                NaN           NaN   \n",
      "3  TTCAAGTAATCCAGGATAGGCTTTCTC          1                NaN           NaN   \n",
      "4   TCCCTGAGACCCTAACTTGTGATCTC          1                NaN           NaN   \n",
      "\n",
      "  mature tRNA primary tRNA snoRNA rRNA ncrna others mRNA       isomiR miRNA  \\\n",
      "0         NaN          NaN    NaN  NaN          NaN  NaN   Hsa-Mir-26-P3_5p   \n",
      "1         NaN          NaN    NaN  NaN          NaN  NaN                NaN   \n",
      "2         NaN          NaN    NaN  NaN          NaN  NaN    Hsa-Let-7-P7_5p   \n",
      "3         NaN          NaN    NaN  NaN          NaN  NaN   Hsa-Mir-26-P1_5p   \n",
      "4         NaN          NaN    NaN  NaN          NaN  NaN  Hsa-Mir-10-P3b_5p   \n",
      "\n",
      "   SRR2174517  \n",
      "0           1  \n",
      "1          57  \n",
      "2         369  \n",
      "3          66  \n",
      "4         421  \n"
     ]
    }
   ],
   "source": [
    "print(example_mapped.head())"
   ]
  },
  {
   "cell_type": "code",
   "execution_count": 38,
   "metadata": {},
   "outputs": [
    {
     "data": {
      "text/html": [
       "<div>\n",
       "<style scoped>\n",
       "    .dataframe tbody tr th:only-of-type {\n",
       "        vertical-align: middle;\n",
       "    }\n",
       "\n",
       "    .dataframe tbody tr th {\n",
       "        vertical-align: top;\n",
       "    }\n",
       "\n",
       "    .dataframe thead th {\n",
       "        text-align: right;\n",
       "    }\n",
       "</style>\n",
       "<table border=\"1\" class=\"dataframe\">\n",
       "  <thead>\n",
       "    <tr style=\"text-align: right;\">\n",
       "      <th></th>\n",
       "      <th>realMicRNA</th>\n",
       "      <th>realMicRNAName</th>\n",
       "      <th>clusterName</th>\n",
       "      <th>seqCount</th>\n",
       "      <th>readCountSum</th>\n",
       "      <th>exactMatchRatio</th>\n",
       "      <th>headUnstableLength</th>\n",
       "      <th>tailUnstableLength</th>\n",
       "      <th>head_minus3_templateNucleotide</th>\n",
       "      <th>head_minus3_TemplateNucleotide_percentage</th>\n",
       "      <th>...</th>\n",
       "      <th>percentage_PairedInMiRNA</th>\n",
       "      <th>hairpin_count</th>\n",
       "      <th>binding_count</th>\n",
       "      <th>interiorLoopCount</th>\n",
       "      <th>apicalLoop_size</th>\n",
       "      <th>stem_length</th>\n",
       "      <th>mFE</th>\n",
       "      <th>count_bindings_in_miRNA</th>\n",
       "      <th>UGU_UGUG_motif</th>\n",
       "      <th>pair_state</th>\n",
       "    </tr>\n",
       "    <tr>\n",
       "      <th>label</th>\n",
       "      <th></th>\n",
       "      <th></th>\n",
       "      <th></th>\n",
       "      <th></th>\n",
       "      <th></th>\n",
       "      <th></th>\n",
       "      <th></th>\n",
       "      <th></th>\n",
       "      <th></th>\n",
       "      <th></th>\n",
       "      <th></th>\n",
       "      <th></th>\n",
       "      <th></th>\n",
       "      <th></th>\n",
       "      <th></th>\n",
       "      <th></th>\n",
       "      <th></th>\n",
       "      <th></th>\n",
       "      <th></th>\n",
       "      <th></th>\n",
       "      <th></th>\n",
       "    </tr>\n",
       "  </thead>\n",
       "  <tbody>\n",
       "    <tr>\n",
       "      <th>hairpin_miRNA</th>\n",
       "      <td>93</td>\n",
       "      <td>93</td>\n",
       "      <td>93</td>\n",
       "      <td>93</td>\n",
       "      <td>93</td>\n",
       "      <td>93</td>\n",
       "      <td>93</td>\n",
       "      <td>93</td>\n",
       "      <td>93</td>\n",
       "      <td>93</td>\n",
       "      <td>...</td>\n",
       "      <td>93</td>\n",
       "      <td>93</td>\n",
       "      <td>93</td>\n",
       "      <td>93</td>\n",
       "      <td>93</td>\n",
       "      <td>93</td>\n",
       "      <td>93</td>\n",
       "      <td>93</td>\n",
       "      <td>93</td>\n",
       "      <td>93</td>\n",
       "    </tr>\n",
       "    <tr>\n",
       "      <th>isomiR_miRNA</th>\n",
       "      <td>93</td>\n",
       "      <td>93</td>\n",
       "      <td>93</td>\n",
       "      <td>93</td>\n",
       "      <td>93</td>\n",
       "      <td>93</td>\n",
       "      <td>93</td>\n",
       "      <td>93</td>\n",
       "      <td>93</td>\n",
       "      <td>93</td>\n",
       "      <td>...</td>\n",
       "      <td>93</td>\n",
       "      <td>93</td>\n",
       "      <td>93</td>\n",
       "      <td>93</td>\n",
       "      <td>93</td>\n",
       "      <td>93</td>\n",
       "      <td>93</td>\n",
       "      <td>93</td>\n",
       "      <td>93</td>\n",
       "      <td>93</td>\n",
       "    </tr>\n",
       "    <tr>\n",
       "      <th>mRNA</th>\n",
       "      <td>93</td>\n",
       "      <td>93</td>\n",
       "      <td>93</td>\n",
       "      <td>93</td>\n",
       "      <td>93</td>\n",
       "      <td>93</td>\n",
       "      <td>93</td>\n",
       "      <td>93</td>\n",
       "      <td>93</td>\n",
       "      <td>93</td>\n",
       "      <td>...</td>\n",
       "      <td>93</td>\n",
       "      <td>93</td>\n",
       "      <td>93</td>\n",
       "      <td>93</td>\n",
       "      <td>93</td>\n",
       "      <td>93</td>\n",
       "      <td>93</td>\n",
       "      <td>93</td>\n",
       "      <td>93</td>\n",
       "      <td>93</td>\n",
       "    </tr>\n",
       "    <tr>\n",
       "      <th>mature_tRNA</th>\n",
       "      <td>93</td>\n",
       "      <td>93</td>\n",
       "      <td>93</td>\n",
       "      <td>93</td>\n",
       "      <td>93</td>\n",
       "      <td>93</td>\n",
       "      <td>93</td>\n",
       "      <td>93</td>\n",
       "      <td>93</td>\n",
       "      <td>93</td>\n",
       "      <td>...</td>\n",
       "      <td>93</td>\n",
       "      <td>93</td>\n",
       "      <td>93</td>\n",
       "      <td>93</td>\n",
       "      <td>93</td>\n",
       "      <td>93</td>\n",
       "      <td>93</td>\n",
       "      <td>93</td>\n",
       "      <td>93</td>\n",
       "      <td>93</td>\n",
       "    </tr>\n",
       "    <tr>\n",
       "      <th>ncrna_others</th>\n",
       "      <td>93</td>\n",
       "      <td>93</td>\n",
       "      <td>93</td>\n",
       "      <td>93</td>\n",
       "      <td>93</td>\n",
       "      <td>93</td>\n",
       "      <td>93</td>\n",
       "      <td>93</td>\n",
       "      <td>93</td>\n",
       "      <td>93</td>\n",
       "      <td>...</td>\n",
       "      <td>93</td>\n",
       "      <td>93</td>\n",
       "      <td>93</td>\n",
       "      <td>93</td>\n",
       "      <td>93</td>\n",
       "      <td>93</td>\n",
       "      <td>93</td>\n",
       "      <td>93</td>\n",
       "      <td>93</td>\n",
       "      <td>93</td>\n",
       "    </tr>\n",
       "    <tr>\n",
       "      <th>primary_tRNA</th>\n",
       "      <td>93</td>\n",
       "      <td>93</td>\n",
       "      <td>93</td>\n",
       "      <td>93</td>\n",
       "      <td>93</td>\n",
       "      <td>93</td>\n",
       "      <td>93</td>\n",
       "      <td>93</td>\n",
       "      <td>93</td>\n",
       "      <td>93</td>\n",
       "      <td>...</td>\n",
       "      <td>93</td>\n",
       "      <td>93</td>\n",
       "      <td>93</td>\n",
       "      <td>93</td>\n",
       "      <td>93</td>\n",
       "      <td>93</td>\n",
       "      <td>93</td>\n",
       "      <td>93</td>\n",
       "      <td>93</td>\n",
       "      <td>93</td>\n",
       "    </tr>\n",
       "    <tr>\n",
       "      <th>rRNA</th>\n",
       "      <td>93</td>\n",
       "      <td>93</td>\n",
       "      <td>93</td>\n",
       "      <td>93</td>\n",
       "      <td>93</td>\n",
       "      <td>93</td>\n",
       "      <td>93</td>\n",
       "      <td>93</td>\n",
       "      <td>93</td>\n",
       "      <td>93</td>\n",
       "      <td>...</td>\n",
       "      <td>93</td>\n",
       "      <td>93</td>\n",
       "      <td>93</td>\n",
       "      <td>93</td>\n",
       "      <td>93</td>\n",
       "      <td>93</td>\n",
       "      <td>93</td>\n",
       "      <td>93</td>\n",
       "      <td>93</td>\n",
       "      <td>93</td>\n",
       "    </tr>\n",
       "    <tr>\n",
       "      <th>snoRNA</th>\n",
       "      <td>93</td>\n",
       "      <td>93</td>\n",
       "      <td>93</td>\n",
       "      <td>93</td>\n",
       "      <td>93</td>\n",
       "      <td>93</td>\n",
       "      <td>93</td>\n",
       "      <td>93</td>\n",
       "      <td>93</td>\n",
       "      <td>93</td>\n",
       "      <td>...</td>\n",
       "      <td>93</td>\n",
       "      <td>93</td>\n",
       "      <td>93</td>\n",
       "      <td>93</td>\n",
       "      <td>93</td>\n",
       "      <td>93</td>\n",
       "      <td>93</td>\n",
       "      <td>93</td>\n",
       "      <td>93</td>\n",
       "      <td>93</td>\n",
       "    </tr>\n",
       "  </tbody>\n",
       "</table>\n",
       "<p>8 rows × 74 columns</p>\n",
       "</div>"
      ],
      "text/plain": [
       "               realMicRNA  realMicRNAName  clusterName  seqCount  \\\n",
       "label                                                              \n",
       "hairpin_miRNA          93              93           93        93   \n",
       "isomiR_miRNA           93              93           93        93   \n",
       "mRNA                   93              93           93        93   \n",
       "mature_tRNA            93              93           93        93   \n",
       "ncrna_others           93              93           93        93   \n",
       "primary_tRNA           93              93           93        93   \n",
       "rRNA                   93              93           93        93   \n",
       "snoRNA                 93              93           93        93   \n",
       "\n",
       "               readCountSum  exactMatchRatio  headUnstableLength  \\\n",
       "label                                                              \n",
       "hairpin_miRNA            93               93                  93   \n",
       "isomiR_miRNA             93               93                  93   \n",
       "mRNA                     93               93                  93   \n",
       "mature_tRNA              93               93                  93   \n",
       "ncrna_others             93               93                  93   \n",
       "primary_tRNA             93               93                  93   \n",
       "rRNA                     93               93                  93   \n",
       "snoRNA                   93               93                  93   \n",
       "\n",
       "               tailUnstableLength  head_minus3_templateNucleotide  \\\n",
       "label                                                               \n",
       "hairpin_miRNA                  93                              93   \n",
       "isomiR_miRNA                   93                              93   \n",
       "mRNA                           93                              93   \n",
       "mature_tRNA                    93                              93   \n",
       "ncrna_others                   93                              93   \n",
       "primary_tRNA                   93                              93   \n",
       "rRNA                           93                              93   \n",
       "snoRNA                         93                              93   \n",
       "\n",
       "               head_minus3_TemplateNucleotide_percentage  ...  \\\n",
       "label                                                     ...   \n",
       "hairpin_miRNA                                         93  ...   \n",
       "isomiR_miRNA                                          93  ...   \n",
       "mRNA                                                  93  ...   \n",
       "mature_tRNA                                           93  ...   \n",
       "ncrna_others                                          93  ...   \n",
       "primary_tRNA                                          93  ...   \n",
       "rRNA                                                  93  ...   \n",
       "snoRNA                                                93  ...   \n",
       "\n",
       "               percentage_PairedInMiRNA  hairpin_count  binding_count  \\\n",
       "label                                                                   \n",
       "hairpin_miRNA                        93             93             93   \n",
       "isomiR_miRNA                         93             93             93   \n",
       "mRNA                                 93             93             93   \n",
       "mature_tRNA                          93             93             93   \n",
       "ncrna_others                         93             93             93   \n",
       "primary_tRNA                         93             93             93   \n",
       "rRNA                                 93             93             93   \n",
       "snoRNA                               93             93             93   \n",
       "\n",
       "               interiorLoopCount  apicalLoop_size  stem_length  mFE  \\\n",
       "label                                                                 \n",
       "hairpin_miRNA                 93               93           93   93   \n",
       "isomiR_miRNA                  93               93           93   93   \n",
       "mRNA                          93               93           93   93   \n",
       "mature_tRNA                   93               93           93   93   \n",
       "ncrna_others                  93               93           93   93   \n",
       "primary_tRNA                  93               93           93   93   \n",
       "rRNA                          93               93           93   93   \n",
       "snoRNA                        93               93           93   93   \n",
       "\n",
       "               count_bindings_in_miRNA  UGU_UGUG_motif  pair_state  \n",
       "label                                                               \n",
       "hairpin_miRNA                       93              93          93  \n",
       "isomiR_miRNA                        93              93          93  \n",
       "mRNA                                93              93          93  \n",
       "mature_tRNA                         93              93          93  \n",
       "ncrna_others                        93              93          93  \n",
       "primary_tRNA                        93              93          93  \n",
       "rRNA                                93              93          93  \n",
       "snoRNA                              93              93          93  \n",
       "\n",
       "[8 rows x 74 columns]"
      ]
     },
     "execution_count": 38,
     "metadata": {},
     "output_type": "execute_result"
    }
   ],
   "source": [
    "final_df[final_df['clusterName'].str.contains('SRR2174517')].groupby('label').count()"
   ]
  },
  {
   "cell_type": "markdown",
   "metadata": {},
   "source": [
    "Hypothesis: I think we're probably feeding in the same dataframe to novel_mir.py every time, rather than filtering correctly for is.na in mapped."
   ]
  },
  {
   "cell_type": "markdown",
   "metadata": {},
   "source": [
    "The code looks right, but actually they're not \"na\", they're blank! So it IS PASSING THE SAME DATA FRAME EVERY TIME WHICH IS HUGE FOR US! "
   ]
  }
 ],
 "metadata": {
  "kernelspec": {
   "display_name": "Python 3",
   "language": "python",
   "name": "python3"
  },
  "language_info": {
   "codemirror_mode": {
    "name": "ipython",
    "version": 3
   },
   "file_extension": ".py",
   "mimetype": "text/x-python",
   "name": "python",
   "nbconvert_exporter": "python",
   "pygments_lexer": "ipython3",
   "version": "3.7.6"
  }
 },
 "nbformat": 4,
 "nbformat_minor": 4
}
