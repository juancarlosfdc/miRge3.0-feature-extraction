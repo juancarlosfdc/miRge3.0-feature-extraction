{
 "cells": [
  {
   "cell_type": "markdown",
   "id": "f7409c65-3a9c-480c-be64-28d58abf37a0",
   "metadata": {},
   "source": [
    "# Figure out where and how precursor features are generated"
   ]
  },
  {
   "cell_type": "markdown",
   "id": "98ed6ead-8f27-40a8-8200-73a759724cd9",
   "metadata": {},
   "source": [
    "1. Figure out where and how precursor features are **written**"
   ]
  },
  {
   "cell_type": "code",
   "execution_count": 111,
   "id": "57d05d39-e702-444f-91b2-3c4bb34d0671",
   "metadata": {},
   "outputs": [],
   "source": [
    "import pandas as pd\n",
    "import re \n",
    "import pysam\n",
    "import numpy as np\n",
    "import os"
   ]
  },
  {
   "cell_type": "code",
   "execution_count": 2,
   "id": "c4c4faa4-0431-4360-a224-8830c1827f1e",
   "metadata": {},
   "outputs": [],
   "source": [
    "feature_df = pd.read_csv('output_dir/miRge.2022-04-26_12-04-16/feature_files/SRR772403_dataset_15_refined_features.csv')"
   ]
  },
  {
   "cell_type": "markdown",
   "id": "3c63285e-0aa3-4a8c-9f56-31249b16f8c6",
   "metadata": {},
   "source": [
    "So clearly "
   ]
  },
  {
   "cell_type": "markdown",
   "id": "9fe008cd-b4de-4e49-b60b-2478aa6c74d3",
   "metadata": {},
   "source": [
    "See google slides as of June 1, June 2, 2022. We're way past this. "
   ]
  },
  {
   "cell_type": "code",
   "execution_count": 4,
   "id": "df412fad-ba68-435e-9183-2c0da9de1543",
   "metadata": {},
   "outputs": [],
   "source": [
    "def chunks(arr, n):\n",
    "    return [arr[i:i+n] for i in range(0, len(arr), n)]"
   ]
  },
  {
   "cell_type": "code",
   "execution_count": 5,
   "id": "d74b7ed7-98e4-43fb-972f-b23c7b2e3e51",
   "metadata": {},
   "outputs": [],
   "source": [
    "precusorStrFile = 'output_dir/miRge.2022-04-26_12-04-16/unmapped_tmp/SRR772403_precursor.str'"
   ]
  },
  {
   "cell_type": "code",
   "execution_count": 6,
   "id": "b33faa02-cc2f-445c-8589-f3a33ef173e9",
   "metadata": {},
   "outputs": [],
   "source": [
    "with open(precusorStrFile, 'r') as inf2:\n",
    "    totalContent = inf2.readlines()\n",
    "    totalContentSplit = chunks(totalContent, 3)\n",
    "    for item in totalContentSplit:\n",
    "        precusorName = item[0].strip()[1:]\n",
    "        precusorSeq = item[1].strip()\n",
    "        precusorStr = item[2].strip().split()[0]\n",
    "        try:\n",
    "            if len(item[2].strip().split()[1]) >= 3:\n",
    "                mfeValue = float(item[2].strip().split()[1][1:-1].strip())\n",
    "            else:\n",
    "                mfeValue = float(item[2].strip().split()[2][:-1].strip())\n",
    "        except:\n",
    "            mfeValue = 0.0"
   ]
  },
  {
   "cell_type": "code",
   "execution_count": 7,
   "id": "427af5f5-7855-43f1-92f8-fa8b740633af",
   "metadata": {},
   "outputs": [
    {
     "data": {
      "text/plain": [
       "'SRR772403:miRCluster_206_23:chrX:66018937_66018959+:precusor_2'"
      ]
     },
     "execution_count": 7,
     "metadata": {},
     "output_type": "execute_result"
    }
   ],
   "source": [
    "precusorName"
   ]
  },
  {
   "cell_type": "code",
   "execution_count": 8,
   "id": "2b2ec142-41e2-4348-ad2a-2968b251d12c",
   "metadata": {},
   "outputs": [
    {
     "data": {
      "text/plain": [
       "'GGACACUCCAUGUGGUAGAGUGUCAGUUUGUCAAAUACCCCAAGUGCGGCACAUGCUUACCAGCUCUAGGCCAGGGCAGAUGGGAUAUGACGAAUGGACUGCCAGCUGGA'"
      ]
     },
     "execution_count": 8,
     "metadata": {},
     "output_type": "execute_result"
    }
   ],
   "source": [
    "precusorSeq"
   ]
  },
  {
   "cell_type": "code",
   "execution_count": 9,
   "id": "c1033546-753a-4d0e-9c61-59abb937cde7",
   "metadata": {},
   "outputs": [
    {
     "data": {
      "text/plain": [
       "'......((((..(((((....(((.((((((((..((.((((..((((((....(((....))).....)))...)))..)))).)))))))))).))))))))..))))'"
      ]
     },
     "execution_count": 9,
     "metadata": {},
     "output_type": "execute_result"
    }
   ],
   "source": [
    "precusorStr"
   ]
  },
  {
   "cell_type": "code",
   "execution_count": 12,
   "id": "7eb2a74f-9ee8-439d-a1c1-48703b0facb0",
   "metadata": {},
   "outputs": [
    {
     "data": {
      "text/plain": [
       "184"
      ]
     },
     "execution_count": 12,
     "metadata": {},
     "output_type": "execute_result"
    }
   ],
   "source": [
    "len(totalContentSplit)"
   ]
  },
  {
   "cell_type": "code",
   "execution_count": 15,
   "id": "ecded5eb-e74c-4d73-a9ba-1c93133ff51e",
   "metadata": {},
   "outputs": [
    {
     "data": {
      "text/plain": [
       "'>SRR772403:miRCluster_206_23:chrX:66018937_66018959+:precusor_2'"
      ]
     },
     "execution_count": 15,
     "metadata": {},
     "output_type": "execute_result"
    }
   ],
   "source": [
    "item[0].strip()"
   ]
  },
  {
   "cell_type": "code",
   "execution_count": 17,
   "id": "a0349c68-3720-4bf5-997c-6c2a7c5bba44",
   "metadata": {},
   "outputs": [
    {
     "name": "stdout",
     "output_type": "stream",
     "text": [
      "Help on method_descriptor:\n",
      "\n",
      "strip(self, chars=None, /)\n",
      "    Return a copy of the string with leading and trailing whitespace removed.\n",
      "    \n",
      "    If chars is given and not None, remove characters in chars instead.\n",
      "\n"
     ]
    }
   ],
   "source": [
    "help(str.strip)"
   ]
  },
  {
   "cell_type": "code",
   "execution_count": 18,
   "id": "c7e1be1f-d0ea-495b-a8fb-5cdb50f5ead5",
   "metadata": {},
   "outputs": [
    {
     "name": "stdout",
     "output_type": "stream",
     "text": [
      ">SRR772403:miRCluster_4_24:chr1:40754371_40754394+:precusor_1\n",
      "UCUGUCACCUCCUUACUAGAGUAGGGUGUGCCUCACUGCGUCUCCGUUCUUUCUGGGCAGUCUUUGCUACUGUAAACAUCCUUGACUGGAAGCUGUAAGGUGUUCAGAG\n",
      "((((.(((((..((((.(((((((((..(((((....(((....))).......)))))..))))))).))))))((((((......)))...))).)))))..)))). (-29.70)\n",
      ">SRR772403:miRCluster_4_24:chr1:40754371_40754394+:precusor_2\n",
      "UUCUGGGCAGUCUUUGCUACUGUAAACAUCCUUGACUGGAAGCUGUAAGGUGUUCAGAGGAGCUUUCAGUCGGAUGUUUACAGCGGCAGGCUGCCACGGUCGUCCCCAG\n",
      "..(((((((((((..(((.((((((((((((..(((((((((((................))))))))))))))))))))))).))))))))))).))).......... (-54.10)\n",
      ">SRR772403:miRCluster_5_22:chr1:40754413_40754434+:precusor_1\n",
      "UCCGUUCUUUCUGGGCAGUCUUUGCUACUGUAAACAUCCUUGACUGGAAGCUGUAAGGUGUUCAGAGGAGCUUUCAGUCGGAUGUUUACAGCGGCAGGCUGCCACGGUCGU\n",
      "..........(((((((((((..(((.((((((((((((..(((((((((((................))))))))))))))))))))))).))))))))))).))).... (-54.10)\n",
      ">SRR772403:miRCluster_5_22:chr1:40754413_40754434+:precusor_2\n"
     ]
    }
   ],
   "source": [
    "%%bash\n",
    "head output_dir/miRge.2022-04-26_12-04-16/unmapped_tmp/SRR772403_precursor.str"
   ]
  },
  {
   "cell_type": "code",
   "execution_count": 17,
   "id": "55c21333-9a45-4c26-bb14-ea17dd700b9c",
   "metadata": {},
   "outputs": [],
   "source": [
    "premiRNASeq = \"UCUGUCACCUCCUUACUAGAGUAGGGUGUGCCUCACUGCGUCUCCGUUCUUUCUGGGCAGUCUUUGCUACUGUAAACAUCCUUGACUGGAAGCUGUAAGGUGUUCAGAG\"\n",
    "premiRNAStructure = \"((((.(((((..((((.(((((((((..(((((....(((....))).......)))))..))))))).))))))((((((......)))...))).)))))..)))).\"\n"
   ]
  },
  {
   "cell_type": "code",
   "execution_count": 2,
   "id": "e7ef9402-3197-43c1-8e7f-4bdb358e6267",
   "metadata": {},
   "outputs": [],
   "source": [
    "import mirge.forgi.graph.bulge_graph as fgb"
   ]
  },
  {
   "cell_type": "code",
   "execution_count": 18,
   "id": "8e9a4ef7-6392-414b-b27e-a84e540986ea",
   "metadata": {},
   "outputs": [],
   "source": [
    "bg1 = fgb.BulgeGraph()\n",
    "fa = '\\n'.join(['>PrecusorStr', premiRNASeq, premiRNAStructure])\n",
    "bg1.from_fasta(fa)"
   ]
  },
  {
   "cell_type": "code",
   "execution_count": 19,
   "id": "b0018d37-fe0f-4943-9ace-953be4784180",
   "metadata": {},
   "outputs": [],
   "source": [
    "hairpinCount = 0\n",
    "interiorLoopCount = 0\n",
    "for string in bg1.to_bg_string().strip().split('\\n'):\n",
    "    if 'define' in string:\n",
    "        contentTmp = string.split(' ')\n",
    "        elementType = contentTmp[1]\n",
    "        if elementType[0] == 'h':\n",
    "            hairpinCount = hairpinCount + 1\n",
    "        if elementType[0] == 'i':\n",
    "            interiorLoopCount = interiorLoopCount + 1"
   ]
  },
  {
   "cell_type": "code",
   "execution_count": 16,
   "id": "c05f9415-8164-4d7b-982e-fba85389be76",
   "metadata": {},
   "outputs": [
    {
     "name": "stdout",
     "output_type": "stream",
     "text": [
      "name PrecusorStr\n",
      "length 111\n",
      "seq UCCGUUCUUUCUGGGCAGUCUUUGCUACUGUAAACAUCCUUGACUGGAAGCUGUAAGGUGUUCAGAGGAGCUUUCAGUCGGAUGUUUACAGCGGCAGGCUGCCACGGUCGU\n",
      "seq_ids 1 2 3 4 5 6 7 8 9 10 11 12 13 14 15 16 17 18 19 20 21 22 23 24 25 26 27 28 29 30 31 32 33 34 35 36 37 38 39 40 41 42 43 44 45 46 47 48 49 50 51 52 53 54 55 56 57 58 59 60 61 62 63 64 65 66 67 68 69 70 71 72 73 74 75 76 77 78 79 80 81 82 83 84 85 86 87 88 89 90 91 92 93 94 95 96 97 98 99 100 101 102 103 104 105 106 107 108 109 110 111\n",
      "define f1 1 10\n",
      "define s0 11 13 105 107\n",
      "define s1 14 21 96 103\n",
      "define i3 104 104\n",
      "define i0 22 23\n",
      "define s2 24 26 93 95\n",
      "define i1 27 27 92 92\n",
      "define s3 28 39 80 91\n",
      "define i2 40 41\n",
      "define s4 42 52 69 79\n",
      "define h0 53 68\n",
      "define t1 108 111\n",
      "connect s0 f1 i3 t1\n",
      "connect s1 i3 i0\n",
      "connect s2 i1 i0\n",
      "connect s3 i1 i2\n",
      "connect s4 h0 i2\n",
      "\n"
     ]
    }
   ],
   "source": [
    "print(bg1.to_bg_string())"
   ]
  },
  {
   "cell_type": "code",
   "execution_count": 14,
   "id": "971f1826-a8b8-4eff-bb97-12bf730d78c6",
   "metadata": {},
   "outputs": [
    {
     "data": {
      "text/plain": [
       "1"
      ]
     },
     "execution_count": 14,
     "metadata": {},
     "output_type": "execute_result"
    }
   ],
   "source": [
    "hairpinCount"
   ]
  },
  {
   "cell_type": "code",
   "execution_count": null,
   "id": "88d3f52e-f089-4141-b870-e92669d2b6c9",
   "metadata": {},
   "outputs": [],
   "source": [
    "UCUGUCACCUCCUUACUAGAGUAGGGUGUGCCUCACUGCGUCUCCGUUCUUUCUGGGCAGUCUUUGCUACUGUAAACAUCCUUGACUGGAAGCUGUAAGGUGUUCAGAG\n",
    "((((.(((((..((((.(((((((((..(((((....(((....))).......)))))..))))))).))))))((((((......)))...))).)))))..)))). (-29.70)"
   ]
  },
  {
   "cell_type": "markdown",
   "id": "030245a6-519d-467e-a70a-a5750f219e75",
   "metadata": {},
   "source": [
    "# Below I've pasted content of the featuresInPrecusor method"
   ]
  },
  {
   "cell_type": "code",
   "execution_count": 28,
   "id": "faed9322-2dff-4871-84a8-da8134044073",
   "metadata": {},
   "outputs": [
    {
     "ename": "NameError",
     "evalue": "name 'miRNASeq' is not defined",
     "output_type": "error",
     "traceback": [
      "\u001b[0;31m---------------------------------------------------------------------------\u001b[0m",
      "\u001b[0;31mNameError\u001b[0m                                 Traceback (most recent call last)",
      "\u001b[0;32m<ipython-input-28-3b40bd178b60>\u001b[0m in \u001b[0;36m<module>\u001b[0;34m\u001b[0m\n\u001b[1;32m     56\u001b[0m \u001b[0;31m# Calculate the overlap of miRNA with the hairpin\u001b[0m\u001b[0;34m\u001b[0m\u001b[0;34m\u001b[0m\u001b[0;34m\u001b[0m\u001b[0m\n\u001b[1;32m     57\u001b[0m \u001b[0;31m# startPos and endPos are the locations of the miRNA in the corePrecusor. 0-based\u001b[0m\u001b[0;34m\u001b[0m\u001b[0;34m\u001b[0m\u001b[0;34m\u001b[0m\u001b[0m\n\u001b[0;32m---> 58\u001b[0;31m \u001b[0mstartPos\u001b[0m\u001b[0;34m,\u001b[0m \u001b[0mendPos\u001b[0m \u001b[0;34m=\u001b[0m \u001b[0mgetMiRNAPosition\u001b[0m\u001b[0;34m(\u001b[0m\u001b[0mmiRNASeq\u001b[0m\u001b[0;34m,\u001b[0m \u001b[0mpremiRNASeq\u001b[0m\u001b[0;34m)\u001b[0m\u001b[0;34m\u001b[0m\u001b[0;34m\u001b[0m\u001b[0m\n\u001b[0m\u001b[1;32m     59\u001b[0m \u001b[0mendPos\u001b[0m \u001b[0;34m=\u001b[0m \u001b[0mendPos\u001b[0m \u001b[0;34m-\u001b[0m \u001b[0;36m1\u001b[0m\u001b[0;34m\u001b[0m\u001b[0;34m\u001b[0m\u001b[0m\n\u001b[1;32m     60\u001b[0m \u001b[0;32mif\u001b[0m \u001b[0mlen\u001b[0m\u001b[0;34m(\u001b[0m\u001b[0mhairpinRagion\u001b[0m\u001b[0;34m)\u001b[0m \u001b[0;34m>=\u001b[0m \u001b[0;36m1\u001b[0m\u001b[0;34m:\u001b[0m\u001b[0;34m\u001b[0m\u001b[0;34m\u001b[0m\u001b[0m\n",
      "\u001b[0;31mNameError\u001b[0m: name 'miRNASeq' is not defined"
     ]
    }
   ],
   "source": [
    "bg = fgb.BulgeGraph()\n",
    "fa = '\\n'.join(['>prunedPrecursorStr', premiRNASeq, premiRNAStructure])\n",
    "bg.from_fasta(fa)\n",
    "bindingCount1 = 0\n",
    "bindingCount2 = 0\n",
    "for item in premiRNAStructure:\n",
    "    if item == '(' :\n",
    "        bindingCount1 = bindingCount1 + 1\n",
    "    if item == ')' :\n",
    "        bindingCount2 = bindingCount2 + 1\n",
    "# Calculate bindingCount in the CorePrecusor\n",
    "bindingCount = max([bindingCount1, bindingCount2])\n",
    "# Calculate the hairpinCount and interiorLoopCount\n",
    "hairpinCount = 0\n",
    "interiorLoopCount = 0\n",
    "for string in bg.to_bg_string().strip().split('\\n'):\n",
    "    if 'define' in string:\n",
    "        contentTmp = string.split(' ')\n",
    "        elementType = contentTmp[1]\n",
    "        if elementType[0] == 'h':\n",
    "            hairpinCount = hairpinCount + 1\n",
    "        if elementType[0] == 'i':\n",
    "            interiorLoopCount = interiorLoopCount + 1\n",
    "# Calculate apicalLoopSize of the CorePrecusor\n",
    "# To get compatible with the older version of forgi, the below statement is abandoned.\n",
    "#elementTypeSeq, indeSeq = bg.to_element_string(with_numbers=True).split('\\n')\n",
    "elementTypeSeq, indeSeq = to_element_string(bg, with_numbers=True).split('\\n')\n",
    "\n",
    "elementIndexList = [elementTypeSeq[i]+indeSeq[i] for i in range(len(elementTypeSeq))]\n",
    "elementSeqList = []\n",
    "elementlocationList = []\n",
    "# the position is 0-based\n",
    "for index, item in enumerate(elementIndexList):\n",
    "    if len(elementlocationList) == 0:\n",
    "        elementSeqList.append(item)\n",
    "        elementlocationList.append([index, index])\n",
    "    elif item != elementSeqList[-1]:\n",
    "        elementSeqList.append(item)\n",
    "        elementlocationList.append([index, index])\n",
    "    else:\n",
    "        elementlocationList[-1][1] = index\n",
    "elementDic = {}\n",
    "for i in range(len(elementSeqList)):\n",
    "    if elementSeqList[i] not in elementDic.keys():\n",
    "        elementDic.update({elementSeqList[i] : [elementlocationList[i]]})\n",
    "    else:\n",
    "        elementDic[elementSeqList[i]].append(elementlocationList[i])\n",
    "hairpinRagion = []\n",
    "for d in elementDic.keys():\n",
    "    if d[0] == 'h':\n",
    "        hairpinRagion = hairpinRagion + elementDic[d]\n",
    "if len(hairpinRagion) >= 1:\n",
    "    apicalLoopSize = max([len(range(item[0], item[1]+1)) for item in hairpinRagion])\n",
    "else:\n",
    "    apicalLoopSize = 0\n",
    "# Calculate the overlap of miRNA with the hairpin\n",
    "# startPos and endPos are the locations of the miRNA in the corePrecusor. 0-based\n",
    "startPos, endPos = getMiRNAPosition(miRNASeq, premiRNASeq)\n",
    "endPos = endPos - 1\n",
    "if len(hairpinRagion) >= 1:\n",
    "    overlapLen = max([len(set(range(startPos, endPos+1)) & set(range(item[0], item[1]+1))) for item in hairpinRagion])\n",
    "else:\n",
    "    overlapLen = 0\n",
    "armType = 'arm5'\n",
    "if overlapLen == 0:\n",
    "    if armType == 'arm5':\n",
    "        distanceToLoop = min([item[0]-1-endPos for item in hairpinRagion])\n",
    "    else:\n",
    "        distanceToLoop = min([startPos-item[1]-1 for item in hairpinRagion])\n",
    "else:\n",
    "    for item in hairpinRagion:\n",
    "        if len(set(range(startPos, endPos+1)) & set(range(item[0], item[1]+1))) == overlapLen:\n",
    "            if armType == 'arm5':\n",
    "                distanceToLoop = item[0]-1-endPos\n",
    "            else:\n",
    "                distanceToLoop = startPos - item[1] - 1\n",
    "            break\n",
    "# armTypeOverlenDic.update({armType: [overlapLen, distanceToLoop]})\n",
    "# if len(self.miRNASeq) == 2:\n",
    "#     armType2 = checkArm(self.premiRNASeq, self.premiRNAStructure, self.miRNASeq[1])\n",
    "#     startPos2, endPos2 = getMiRNAPosition(self.miRNASeq[1], self.premiRNASeq)\n",
    "#     endPos2 = endPos2 - 1\n",
    "#     if len(hairpinRagion) >= 1:\n",
    "#         overlapLen2 = max([len(set(range(startPos2, endPos2+1)) & set(range(item[0], item[1]+1))) for item in hairpinRagion])\n",
    "#     else:\n",
    "#         overlapLen2 = 0\n",
    "#     if overlapLen2 == 0:\n",
    "#         if armType2 == 'arm5':\n",
    "#             distanceToLoop2 = min([item[0]-1-endPos2 for item in hairpinRagion])\n",
    "#         else:\n",
    "#             distanceToLoop2 = min([startPos2-item[1]-1 for item in hairpinRagion])\n",
    "#     else:\n",
    "#         for item in hairpinRagion:\n",
    "#             if len(set(range(startPos2, endPos2+1)) & set(range(item[0], item[1]+1))) == overlapLen2:\n",
    "#                 if armType2 == 'arm5':\n",
    "#                     distanceToLoop2 = item[0]-1-endPos2\n",
    "#                 else:\n",
    "#                     distanceToLoop2 = startPos2 - item[1]-1\n",
    "#                 break\n",
    "#     armTypeOverlenDic.update({armType2: [overlapLen2, distanceToLoop2]})\n",
    "# Calculate the stem length of precusor.\n",
    "stemLen = 0\n",
    "for d in elementDic.keys():\n",
    "    if d[0] == 's':\n",
    "        stemLen = stemLen + max([item[1]+1-item[0] for item in elementDic[d]])\n",
    "# Check whether apical UGU/UGUG motif exist in hairpin region\n",
    "flag = 'No'\n",
    "for d in elementDic.keys():\n",
    "    if d[0] == 'h':\n",
    "        for item in elementDic[d]:\n",
    "            seqTmp = self.premiRNASeq[item[0]:item[1]]\n",
    "            if 'UGU' in seqTmp or 'UGUG' in seqTmp:\n",
    "                flag = 'Yes'\n",
    "                break\n",
    "# pair state\n",
    "if len(self.miRNASeq) == 2:\n",
    "    pairState = 'Yes'\n",
    "else:\n",
    "    pairState = 'No'\n",
    "    \n",
    "return (hairpinCount, bindingCount, interiorLoopCount, armType, apicalLoopSize, armTypeOverlenDic, stemLen, flag, self.mfe, pairState)"
   ]
  },
  {
   "cell_type": "code",
   "execution_count": 24,
   "id": "8bbcf386-a38b-4f20-88cd-77e81cd0d125",
   "metadata": {},
   "outputs": [],
   "source": [
    "def to_element_string(bulgeGraphInstance, with_numbers=False):\n",
    "\toutput_str = [' '] * (bulgeGraphInstance.seq_length + 1)\n",
    "\toutput_nr = [' '] * (bulgeGraphInstance.seq_length + 1)\n",
    "\tfor d in bulgeGraphInstance.defines.keys():\n",
    "\t\tfor resi in bulgeGraphInstance.define_residue_num_iterator(d, adjacent=False):\n",
    "\t\t\toutput_str[resi] = d[0]\n",
    "\t\t\toutput_nr[resi] = d[-1]\n",
    "\tif with_numbers:\n",
    "\t\treturn \"\".join(output_str).strip()+\"\\n\"+\"\".join(output_nr).strip()\n",
    "\telse:\n",
    "\t\treturn \"\".join(output_str).strip()"
   ]
  },
  {
   "cell_type": "code",
   "execution_count": 27,
   "id": "68a352ba-578a-47b3-b222-0ca0669e8887",
   "metadata": {},
   "outputs": [],
   "source": [
    "def getMiRNAPosition(miRNASeq, RNASequence):\n",
    "\tstartPos = RNASequence.find(miRNASeq)\n",
    "\tendPos = startPos + len(miRNASeq)\n",
    "\treturn [startPos, endPos]\n",
    "\n",
    "#get miRNA structure\n",
    "def getMiRNAStructure(miRNASeq, RNASequence, RNAStructure):\n",
    "\t[startPos, endPos] = getMiRNAPosition(miRNASeq, RNASequence)\n",
    "\tmirnaStruct = RNAStructure[startPos:endPos]\n",
    "\treturn mirnaStruct\n"
   ]
  },
  {
   "cell_type": "markdown",
   "id": "c411b2f9-cd1a-4db9-a3ae-44280f640755",
   "metadata": {},
   "source": [
    "# Here starts our feature-generating code. "
   ]
  },
  {
   "cell_type": "code",
   "execution_count": 30,
   "id": "0f25dbbd-188b-45c0-8b93-652c9653836e",
   "metadata": {},
   "outputs": [],
   "source": [
    "region = 'chrX:50008481_50008504'"
   ]
  },
  {
   "cell_type": "code",
   "execution_count": 76,
   "id": "13a9cc35-cae3-4df2-87dd-24bc47b31e9c",
   "metadata": {},
   "outputs": [],
   "source": [
    "def lookup_in_hg38(region, hg38):    \n",
    "    chr_ = re.search('chr[^:]*', region).group(0)\n",
    "    start = re.search('(?<=:)[0-9]*(?=_)', region).group(0)\n",
    "    end = re.search('(?<=_)[0-9]*$', region).group(0)\n",
    "    try:\n",
    "        miRNA_seq = re.sub('T', 'U', hg38.fetch(region=re.sub('_', '-', region)))\n",
    "    except:\n",
    "        return [region] + [None] * 6\n",
    "    precursor_1_region = chr_ + ':' + str(int(start) - 70) + '-' + str(int(end) + 20)\n",
    "    precursor_2_region = chr_ + ':' + str(int(start) - 20) + '-' + str(int(end) + 70)\n",
    "    precursor_1 = re.sub('T', 'U', hg38.fetch(region=precursor_1_region))\n",
    "    precursor_2 = re.sub('T', 'U', hg38.fetch(region=precursor_2_region))\n",
    "    return np.array([region, miRNA_seq, precursor_1, precursor_2, chr_, start, end])"
   ]
  },
  {
   "cell_type": "code",
   "execution_count": 50,
   "id": "43ff0924-bcf2-4859-bfef-0241ea012ddf",
   "metadata": {},
   "outputs": [
    {
     "data": {
      "text/plain": [
       "array(['AAUGCACCUGGGCAAGGAUUCUGA',\n",
       "       'UUCACAGGGCUUUGUGUUCUGCUCCCCCUCUCUAAUCCUUGCUACCUGGGUGAGAGUGCUGUCUGAAUGCAAUGCACCUGGGCAAGGAUUCUGAGAGCGAGAGCUUCAUCUUCG',\n",
       "       'UGAGAGUGCUGUCUGAAUGCAAUGCACCUGGGCAAGGAUUCUGAGAGCGAGAGCUUCAUCUUCGUGUAGGACAGAGCGUCUUUCUGUCCUCCUAUCAUCCAUUCCACAAGUAUU',\n",
       "       'chrX', '50008481', '50008504'], dtype='<U114')"
      ]
     },
     "execution_count": 50,
     "metadata": {},
     "output_type": "execute_result"
    }
   ],
   "source": [
    "lookup_in_hg38(region, hg38=hg38)"
   ]
  },
  {
   "cell_type": "code",
   "execution_count": 51,
   "id": "e92177b8-f791-4878-b37b-5ad7d4b0a117",
   "metadata": {},
   "outputs": [],
   "source": [
    "df = pd.read_csv('SVM_training/all_tissues_mapped_dataset_15_refined_miRGeneDB_total_features_updated.csv')"
   ]
  },
  {
   "cell_type": "code",
   "execution_count": 61,
   "id": "982e0b07-bded-4a03-b26c-7e1c94e4fc1d",
   "metadata": {},
   "outputs": [],
   "source": [
    "df['region'] = [re.search('chr.*', cn).group(0)[:-1] for cn in df['clusterName']]"
   ]
  },
  {
   "cell_type": "code",
   "execution_count": 77,
   "id": "f0d9135d-e8f2-4daa-85c2-6f80f9a7b350",
   "metadata": {},
   "outputs": [],
   "source": [
    "sequences = []\n",
    "for i, region in enumerate(df['region']):\n",
    "    sequences.append(lookup_in_hg38(region, hg38))\n",
    "seq_df = pd.DataFrame(np.array(sequences), columns=['region', 'miRNA_seq', 'precursor1_seq', 'precursor2_seq', 'chr', 'start', 'end'])"
   ]
  },
  {
   "cell_type": "code",
   "execution_count": 86,
   "id": "ebe18d1c-cfc7-41a3-a1dd-bd7687646324",
   "metadata": {},
   "outputs": [
    {
     "data": {
      "text/plain": [
       "{True}"
      ]
     },
     "execution_count": 86,
     "metadata": {},
     "output_type": "execute_result"
    }
   ],
   "source": [
    "set(seq_df['region'].values == df['region'].values)"
   ]
  },
  {
   "cell_type": "code",
   "execution_count": 107,
   "id": "79c5bcb0-4cb5-4491-91e7-f03f0d0a2371",
   "metadata": {},
   "outputs": [
    {
     "data": {
      "text/html": [
       "<div>\n",
       "<style scoped>\n",
       "    .dataframe tbody tr th:only-of-type {\n",
       "        vertical-align: middle;\n",
       "    }\n",
       "\n",
       "    .dataframe tbody tr th {\n",
       "        vertical-align: top;\n",
       "    }\n",
       "\n",
       "    .dataframe thead th {\n",
       "        text-align: right;\n",
       "    }\n",
       "</style>\n",
       "<table border=\"1\" class=\"dataframe\">\n",
       "  <thead>\n",
       "    <tr style=\"text-align: right;\">\n",
       "      <th></th>\n",
       "      <th>realMicRNA</th>\n",
       "      <th>realMicRNAName</th>\n",
       "      <th>clusterName</th>\n",
       "      <th>seqCount</th>\n",
       "      <th>readCountSum</th>\n",
       "      <th>exactMatchRatio</th>\n",
       "      <th>headUnstableLength</th>\n",
       "      <th>tailUnstableLength</th>\n",
       "      <th>head_minus3_templateNucleotide</th>\n",
       "      <th>head_minus3_TemplateNucleotide_percentage</th>\n",
       "      <th>...</th>\n",
       "      <th>percentage_PairedInMiRNA</th>\n",
       "      <th>hairpin_count</th>\n",
       "      <th>binding_count</th>\n",
       "      <th>interiorLoopCount</th>\n",
       "      <th>apicalLoop_size</th>\n",
       "      <th>stem_length</th>\n",
       "      <th>mFE</th>\n",
       "      <th>count_bindings_in_miRNA</th>\n",
       "      <th>UGU_UGUG_motif</th>\n",
       "      <th>pair_state</th>\n",
       "    </tr>\n",
       "  </thead>\n",
       "  <tbody>\n",
       "    <tr>\n",
       "      <th>0</th>\n",
       "      <td>1</td>\n",
       "      <td>hsa-miR-200b-5p</td>\n",
       "      <td>mapped_mirna_ERR038410:miRCluster_1_22:chr1:11...</td>\n",
       "      <td>3</td>\n",
       "      <td>11</td>\n",
       "      <td>0.636364</td>\n",
       "      <td>0</td>\n",
       "      <td>2</td>\n",
       "      <td>G</td>\n",
       "      <td>0.0</td>\n",
       "      <td>...</td>\n",
       "      <td>0.95</td>\n",
       "      <td>1</td>\n",
       "      <td>34</td>\n",
       "      <td>6</td>\n",
       "      <td>6</td>\n",
       "      <td>34</td>\n",
       "      <td>-42.9</td>\n",
       "      <td>20</td>\n",
       "      <td>No</td>\n",
       "      <td>Yes</td>\n",
       "    </tr>\n",
       "    <tr>\n",
       "      <th>1</th>\n",
       "      <td>1</td>\n",
       "      <td>hsa-miR-200b-3p</td>\n",
       "      <td>mapped_mirna_ERR038410:miRCluster_2_24:chr1:11...</td>\n",
       "      <td>20</td>\n",
       "      <td>159</td>\n",
       "      <td>0.327044</td>\n",
       "      <td>2</td>\n",
       "      <td>4</td>\n",
       "      <td>C</td>\n",
       "      <td>0.0</td>\n",
       "      <td>...</td>\n",
       "      <td>0.90</td>\n",
       "      <td>1</td>\n",
       "      <td>32</td>\n",
       "      <td>5</td>\n",
       "      <td>6</td>\n",
       "      <td>32</td>\n",
       "      <td>-40.9</td>\n",
       "      <td>18</td>\n",
       "      <td>No</td>\n",
       "      <td>Yes</td>\n",
       "    </tr>\n",
       "    <tr>\n",
       "      <th>2</th>\n",
       "      <td>1</td>\n",
       "      <td>hsa-miR-200a-3p</td>\n",
       "      <td>mapped_mirna_ERR038410:miRCluster_3_23:chr1:11...</td>\n",
       "      <td>15</td>\n",
       "      <td>235</td>\n",
       "      <td>0.565957</td>\n",
       "      <td>0</td>\n",
       "      <td>1</td>\n",
       "      <td>C</td>\n",
       "      <td>0.0</td>\n",
       "      <td>...</td>\n",
       "      <td>0.78</td>\n",
       "      <td>1</td>\n",
       "      <td>32</td>\n",
       "      <td>4</td>\n",
       "      <td>5</td>\n",
       "      <td>32</td>\n",
       "      <td>-45.5</td>\n",
       "      <td>18</td>\n",
       "      <td>No</td>\n",
       "      <td>No</td>\n",
       "    </tr>\n",
       "    <tr>\n",
       "      <th>3</th>\n",
       "      <td>1</td>\n",
       "      <td>hsa-miR-429</td>\n",
       "      <td>mapped_mirna_ERR038410:miRCluster_4_22:chr1:11...</td>\n",
       "      <td>3</td>\n",
       "      <td>27</td>\n",
       "      <td>0.925926</td>\n",
       "      <td>0</td>\n",
       "      <td>0</td>\n",
       "      <td>G</td>\n",
       "      <td>0.0</td>\n",
       "      <td>...</td>\n",
       "      <td>0.77</td>\n",
       "      <td>1</td>\n",
       "      <td>29</td>\n",
       "      <td>3</td>\n",
       "      <td>10</td>\n",
       "      <td>29</td>\n",
       "      <td>-38.8</td>\n",
       "      <td>17</td>\n",
       "      <td>No</td>\n",
       "      <td>No</td>\n",
       "    </tr>\n",
       "    <tr>\n",
       "      <th>4</th>\n",
       "      <td>1</td>\n",
       "      <td>hsa-miR-34a-5p</td>\n",
       "      <td>mapped_mirna_ERR038410:miRCluster_31_23:chr1:9...</td>\n",
       "      <td>10</td>\n",
       "      <td>70</td>\n",
       "      <td>0.828571</td>\n",
       "      <td>0</td>\n",
       "      <td>4</td>\n",
       "      <td>C</td>\n",
       "      <td>0.0</td>\n",
       "      <td>...</td>\n",
       "      <td>0.90</td>\n",
       "      <td>1</td>\n",
       "      <td>35</td>\n",
       "      <td>5</td>\n",
       "      <td>4</td>\n",
       "      <td>35</td>\n",
       "      <td>-39.2</td>\n",
       "      <td>18</td>\n",
       "      <td>No</td>\n",
       "      <td>No</td>\n",
       "    </tr>\n",
       "  </tbody>\n",
       "</table>\n",
       "<p>5 rows × 74 columns</p>\n",
       "</div>"
      ],
      "text/plain": [
       "   realMicRNA   realMicRNAName  \\\n",
       "0           1  hsa-miR-200b-5p   \n",
       "1           1  hsa-miR-200b-3p   \n",
       "2           1  hsa-miR-200a-3p   \n",
       "3           1      hsa-miR-429   \n",
       "4           1   hsa-miR-34a-5p   \n",
       "\n",
       "                                         clusterName  seqCount  readCountSum  \\\n",
       "0  mapped_mirna_ERR038410:miRCluster_1_22:chr1:11...         3            11   \n",
       "1  mapped_mirna_ERR038410:miRCluster_2_24:chr1:11...        20           159   \n",
       "2  mapped_mirna_ERR038410:miRCluster_3_23:chr1:11...        15           235   \n",
       "3  mapped_mirna_ERR038410:miRCluster_4_22:chr1:11...         3            27   \n",
       "4  mapped_mirna_ERR038410:miRCluster_31_23:chr1:9...        10            70   \n",
       "\n",
       "   exactMatchRatio  headUnstableLength  tailUnstableLength  \\\n",
       "0         0.636364                   0                   2   \n",
       "1         0.327044                   2                   4   \n",
       "2         0.565957                   0                   1   \n",
       "3         0.925926                   0                   0   \n",
       "4         0.828571                   0                   4   \n",
       "\n",
       "  head_minus3_templateNucleotide  head_minus3_TemplateNucleotide_percentage  \\\n",
       "0                              G                                        0.0   \n",
       "1                              C                                        0.0   \n",
       "2                              C                                        0.0   \n",
       "3                              G                                        0.0   \n",
       "4                              C                                        0.0   \n",
       "\n",
       "   ...  percentage_PairedInMiRNA  hairpin_count  binding_count  \\\n",
       "0  ...                      0.95              1             34   \n",
       "1  ...                      0.90              1             32   \n",
       "2  ...                      0.78              1             32   \n",
       "3  ...                      0.77              1             29   \n",
       "4  ...                      0.90              1             35   \n",
       "\n",
       "   interiorLoopCount apicalLoop_size  stem_length   mFE  \\\n",
       "0                  6               6           34 -42.9   \n",
       "1                  5               6           32 -40.9   \n",
       "2                  4               5           32 -45.5   \n",
       "3                  3              10           29 -38.8   \n",
       "4                  5               4           35 -39.2   \n",
       "\n",
       "   count_bindings_in_miRNA  UGU_UGUG_motif  pair_state  \n",
       "0                       20              No         Yes  \n",
       "1                       18              No         Yes  \n",
       "2                       18              No          No  \n",
       "3                       17              No          No  \n",
       "4                       18              No          No  \n",
       "\n",
       "[5 rows x 74 columns]"
      ]
     },
     "execution_count": 107,
     "metadata": {},
     "output_type": "execute_result"
    }
   ],
   "source": [
    "df.head()"
   ]
  },
  {
   "cell_type": "code",
   "execution_count": 109,
   "id": "10b0b513-9f5b-4b94-8251-10823f7443d6",
   "metadata": {},
   "outputs": [],
   "source": [
    "df[['miRNA_seq', 'precursor1_seq', 'precursor2_seq', 'chr', 'start', 'end']] = seq_df[['miRNA_seq', 'precursor1_seq', 'precursor2_seq', 'chr', 'start', 'end']]"
   ]
  },
  {
   "cell_type": "code",
   "execution_count": null,
   "id": "6e22424c-44f5-409a-ac0f-9ecc596bb7b5",
   "metadata": {},
   "outputs": [],
   "source": [
    "f1 = os.path.join(self.tmpdir, 'prunedPrecusor.fa')\n",
    "f2 = os.path.join(self.tmpdir, 'prunedPrecusor.str')\n",
    "os.system('%s < %s --noPS --noLP > %s'%(self.rnafoldCmdTmp, f1, f2))"
   ]
  }
 ],
 "metadata": {
  "kernelspec": {
   "display_name": "Python 3",
   "language": "python",
   "name": "python3"
  },
  "language_info": {
   "codemirror_mode": {
    "name": "ipython",
    "version": 3
   },
   "file_extension": ".py",
   "mimetype": "text/x-python",
   "name": "python",
   "nbconvert_exporter": "python",
   "pygments_lexer": "ipython3",
   "version": "3.7.7"
  }
 },
 "nbformat": 4,
 "nbformat_minor": 5
}
